{
 "cells": [
  {
   "cell_type": "markdown",
   "metadata": {},
   "source": [
    "# Réalisation d'une analyse statistique avec le langage R\n",
    "Dans un premier temps, nous allons récupérer les données dans le CSV"
   ]
  },
  {
   "cell_type": "code",
   "execution_count": 108,
   "metadata": {
    "vscode": {
     "languageId": "r"
    }
   },
   "outputs": [],
   "source": [
    "# Charger les données\n",
    "source(\"charger.R\")\n",
    "mondata <- charger(2105482)\n",
    "Y <- mondata$Sales\n",
    "X1 <- mondata$Price\n",
    "X2 <- mondata$Advertising\n",
    "X3 <- mondata$Region"
   ]
  },
  {
   "cell_type": "code",
   "execution_count": 109,
   "metadata": {
    "vscode": {
     "languageId": "r"
    }
   },
   "outputs": [
    {
     "data": {
      "text/html": [
       "<table class=\"dataframe\">\n",
       "<caption>A data.frame: 195 × 4</caption>\n",
       "<thead>\n",
       "\t<tr><th></th><th scope=col>Sales</th><th scope=col>Price</th><th scope=col>Advertising</th><th scope=col>Region</th></tr>\n",
       "\t<tr><th></th><th scope=col>&lt;dbl&gt;</th><th scope=col>&lt;int&gt;</th><th scope=col>&lt;int&gt;</th><th scope=col>&lt;int&gt;</th></tr>\n",
       "</thead>\n",
       "<tbody>\n",
       "\t<tr><th scope=row>150</th><td> 4.67</td><td>111</td><td> 0</td><td>0</td></tr>\n",
       "\t<tr><th scope=row>68</th><td>12.01</td><td> 94</td><td> 0</td><td>1</td></tr>\n",
       "\t<tr><th scope=row>273</th><td> 9.40</td><td> 96</td><td>17</td><td>0</td></tr>\n",
       "\t<tr><th scope=row>43</th><td> 5.05</td><td>117</td><td> 0</td><td>1</td></tr>\n",
       "\t<tr><th scope=row>5</th><td> 6.42</td><td>126</td><td> 5</td><td>1</td></tr>\n",
       "\t<tr><th scope=row>218</th><td> 8.47</td><td>112</td><td> 0</td><td>0</td></tr>\n",
       "\t<tr><th scope=row>159</th><td>10.43</td><td> 24</td><td> 0</td><td>1</td></tr>\n",
       "\t<tr><th scope=row>74</th><td>11.62</td><td>139</td><td> 4</td><td>1</td></tr>\n",
       "\t<tr><th scope=row>209</th><td> 6.98</td><td> 97</td><td> 0</td><td>0</td></tr>\n",
       "\t<tr><th scope=row>96</th><td> 7.78</td><td>116</td><td> 3</td><td>1</td></tr>\n",
       "\t<tr><th scope=row>244</th><td> 7.78</td><td> 64</td><td> 0</td><td>1</td></tr>\n",
       "\t<tr><th scope=row>53</th><td> 6.67</td><td>173</td><td>13</td><td>1</td></tr>\n",
       "\t<tr><th scope=row>197</th><td> 6.97</td><td>129</td><td>19</td><td>0</td></tr>\n",
       "\t<tr><th scope=row>40</th><td> 7.70</td><td> 89</td><td>12</td><td>0</td></tr>\n",
       "\t<tr><th scope=row>6</th><td> 5.61</td><td>154</td><td> 9</td><td>0</td></tr>\n",
       "\t<tr><th scope=row>200</th><td> 1.42</td><td>108</td><td>18</td><td>1</td></tr>\n",
       "\t<tr><th scope=row>213</th><td>14.90</td><td> 82</td><td> 0</td><td>0</td></tr>\n",
       "\t<tr><th scope=row>98</th><td> 8.77</td><td>117</td><td>11</td><td>1</td></tr>\n",
       "\t<tr><th scope=row>149</th><td> 6.89</td><td>110</td><td>10</td><td>0</td></tr>\n",
       "\t<tr><th scope=row>211</th><td>13.14</td><td>105</td><td>10</td><td>1</td></tr>\n",
       "\t<tr><th scope=row>277</th><td> 3.89</td><td>118</td><td> 0</td><td>1</td></tr>\n",
       "\t<tr><th scope=row>85</th><td> 3.90</td><td>131</td><td> 0</td><td>1</td></tr>\n",
       "\t<tr><th scope=row>129</th><td> 5.87</td><td>109</td><td> 0</td><td>1</td></tr>\n",
       "\t<tr><th scope=row>171</th><td> 9.31</td><td>106</td><td> 9</td><td>1</td></tr>\n",
       "\t<tr><th scope=row>78</th><td> 7.91</td><td>129</td><td> 3</td><td>1</td></tr>\n",
       "\t<tr><th scope=row>28</th><td> 3.91</td><td> 98</td><td> 0</td><td>1</td></tr>\n",
       "\t<tr><th scope=row>258</th><td> 6.88</td><td>112</td><td> 0</td><td>0</td></tr>\n",
       "\t<tr><th scope=row>112</th><td> 7.36</td><td>133</td><td> 0</td><td>1</td></tr>\n",
       "\t<tr><th scope=row>26</th><td> 5.17</td><td>120</td><td> 0</td><td>0</td></tr>\n",
       "\t<tr><th scope=row>9</th><td> 4.97</td><td>160</td><td> 0</td><td>1</td></tr>\n",
       "\t<tr><th scope=row>⋮</th><td>⋮</td><td>⋮</td><td>⋮</td><td>⋮</td></tr>\n",
       "\t<tr><th scope=row>54</th><td> 5.08</td><td>138</td><td> 6</td><td>1</td></tr>\n",
       "\t<tr><th scope=row>195</th><td> 8.77</td><td>128</td><td>13</td><td>1</td></tr>\n",
       "\t<tr><th scope=row>145</th><td> 4.16</td><td> 95</td><td> 6</td><td>1</td></tr>\n",
       "\t<tr><th scope=row>242</th><td> 7.23</td><td>128</td><td>18</td><td>1</td></tr>\n",
       "\t<tr><th scope=row>29</th><td> 4.90</td><td>144</td><td>13</td><td>0</td></tr>\n",
       "\t<tr><th scope=row>220</th><td> 8.71</td><td>144</td><td> 5</td><td>0</td></tr>\n",
       "\t<tr><th scope=row>266</th><td> 9.62</td><td>135</td><td> 8</td><td>1</td></tr>\n",
       "\t<tr><th scope=row>237</th><td> 3.47</td><td> 81</td><td> 0</td><td>0</td></tr>\n",
       "\t<tr><th scope=row>16</th><td> 5.68</td><td>106</td><td> 0</td><td>0</td></tr>\n",
       "\t<tr><th scope=row>124</th><td> 9.01</td><td>115</td><td>14</td><td>1</td></tr>\n",
       "\t<tr><th scope=row>184</th><td> 6.50</td><td> 94</td><td> 3</td><td>1</td></tr>\n",
       "\t<tr><th scope=row>31</th><td> 6.71</td><td>137</td><td>17</td><td>1</td></tr>\n",
       "\t<tr><th scope=row>91</th><td>10.71</td><td> 79</td><td>10</td><td>0</td></tr>\n",
       "\t<tr><th scope=row>182</th><td> 6.14</td><td>120</td><td> 3</td><td>0</td></tr>\n",
       "\t<tr><th scope=row>256</th><td> 5.83</td><td>112</td><td> 7</td><td>0</td></tr>\n",
       "\t<tr><th scope=row>142</th><td> 9.14</td><td> 90</td><td> 0</td><td>1</td></tr>\n",
       "\t<tr><th scope=row>30</th><td> 0.91</td><td>117</td><td> 0</td><td>1</td></tr>\n",
       "\t<tr><th scope=row>114</th><td> 7.40</td><td> 97</td><td> 4</td><td>1</td></tr>\n",
       "\t<tr><th scope=row>62</th><td> 4.83</td><td>107</td><td> 3</td><td>1</td></tr>\n",
       "\t<tr><th scope=row>264</th><td> 9.46</td><td> 99</td><td>15</td><td>1</td></tr>\n",
       "\t<tr><th scope=row>111</th><td> 7.32</td><td>107</td><td> 0</td><td>0</td></tr>\n",
       "\t<tr><th scope=row>146</th><td>11.91</td><td> 84</td><td> 0</td><td>1</td></tr>\n",
       "\t<tr><th scope=row>177</th><td> 8.19</td><td>155</td><td> 0</td><td>0</td></tr>\n",
       "\t<tr><th scope=row>164</th><td> 4.74</td><td>140</td><td> 4</td><td>1</td></tr>\n",
       "\t<tr><th scope=row>92</th><td> 7.95</td><td>119</td><td> 3</td><td>0</td></tr>\n",
       "\t<tr><th scope=row>245</th><td> 6.03</td><td>129</td><td>10</td><td>1</td></tr>\n",
       "\t<tr><th scope=row>271</th><td>11.27</td><td>133</td><td> 2</td><td>1</td></tr>\n",
       "\t<tr><th scope=row>216</th><td> 2.93</td><td>160</td><td> 5</td><td>0</td></tr>\n",
       "\t<tr><th scope=row>89</th><td>12.11</td><td>104</td><td>18</td><td>0</td></tr>\n",
       "\t<tr><th scope=row>247</th><td>10.31</td><td>121</td><td> 0</td><td>1</td></tr>\n",
       "</tbody>\n",
       "</table>\n"
      ],
      "text/latex": [
       "A data.frame: 195 × 4\n",
       "\\begin{tabular}{r|llll}\n",
       "  & Sales & Price & Advertising & Region\\\\\n",
       "  & <dbl> & <int> & <int> & <int>\\\\\n",
       "\\hline\n",
       "\t150 &  4.67 & 111 &  0 & 0\\\\\n",
       "\t68 & 12.01 &  94 &  0 & 1\\\\\n",
       "\t273 &  9.40 &  96 & 17 & 0\\\\\n",
       "\t43 &  5.05 & 117 &  0 & 1\\\\\n",
       "\t5 &  6.42 & 126 &  5 & 1\\\\\n",
       "\t218 &  8.47 & 112 &  0 & 0\\\\\n",
       "\t159 & 10.43 &  24 &  0 & 1\\\\\n",
       "\t74 & 11.62 & 139 &  4 & 1\\\\\n",
       "\t209 &  6.98 &  97 &  0 & 0\\\\\n",
       "\t96 &  7.78 & 116 &  3 & 1\\\\\n",
       "\t244 &  7.78 &  64 &  0 & 1\\\\\n",
       "\t53 &  6.67 & 173 & 13 & 1\\\\\n",
       "\t197 &  6.97 & 129 & 19 & 0\\\\\n",
       "\t40 &  7.70 &  89 & 12 & 0\\\\\n",
       "\t6 &  5.61 & 154 &  9 & 0\\\\\n",
       "\t200 &  1.42 & 108 & 18 & 1\\\\\n",
       "\t213 & 14.90 &  82 &  0 & 0\\\\\n",
       "\t98 &  8.77 & 117 & 11 & 1\\\\\n",
       "\t149 &  6.89 & 110 & 10 & 0\\\\\n",
       "\t211 & 13.14 & 105 & 10 & 1\\\\\n",
       "\t277 &  3.89 & 118 &  0 & 1\\\\\n",
       "\t85 &  3.90 & 131 &  0 & 1\\\\\n",
       "\t129 &  5.87 & 109 &  0 & 1\\\\\n",
       "\t171 &  9.31 & 106 &  9 & 1\\\\\n",
       "\t78 &  7.91 & 129 &  3 & 1\\\\\n",
       "\t28 &  3.91 &  98 &  0 & 1\\\\\n",
       "\t258 &  6.88 & 112 &  0 & 0\\\\\n",
       "\t112 &  7.36 & 133 &  0 & 1\\\\\n",
       "\t26 &  5.17 & 120 &  0 & 0\\\\\n",
       "\t9 &  4.97 & 160 &  0 & 1\\\\\n",
       "\t⋮ & ⋮ & ⋮ & ⋮ & ⋮\\\\\n",
       "\t54 &  5.08 & 138 &  6 & 1\\\\\n",
       "\t195 &  8.77 & 128 & 13 & 1\\\\\n",
       "\t145 &  4.16 &  95 &  6 & 1\\\\\n",
       "\t242 &  7.23 & 128 & 18 & 1\\\\\n",
       "\t29 &  4.90 & 144 & 13 & 0\\\\\n",
       "\t220 &  8.71 & 144 &  5 & 0\\\\\n",
       "\t266 &  9.62 & 135 &  8 & 1\\\\\n",
       "\t237 &  3.47 &  81 &  0 & 0\\\\\n",
       "\t16 &  5.68 & 106 &  0 & 0\\\\\n",
       "\t124 &  9.01 & 115 & 14 & 1\\\\\n",
       "\t184 &  6.50 &  94 &  3 & 1\\\\\n",
       "\t31 &  6.71 & 137 & 17 & 1\\\\\n",
       "\t91 & 10.71 &  79 & 10 & 0\\\\\n",
       "\t182 &  6.14 & 120 &  3 & 0\\\\\n",
       "\t256 &  5.83 & 112 &  7 & 0\\\\\n",
       "\t142 &  9.14 &  90 &  0 & 1\\\\\n",
       "\t30 &  0.91 & 117 &  0 & 1\\\\\n",
       "\t114 &  7.40 &  97 &  4 & 1\\\\\n",
       "\t62 &  4.83 & 107 &  3 & 1\\\\\n",
       "\t264 &  9.46 &  99 & 15 & 1\\\\\n",
       "\t111 &  7.32 & 107 &  0 & 0\\\\\n",
       "\t146 & 11.91 &  84 &  0 & 1\\\\\n",
       "\t177 &  8.19 & 155 &  0 & 0\\\\\n",
       "\t164 &  4.74 & 140 &  4 & 1\\\\\n",
       "\t92 &  7.95 & 119 &  3 & 0\\\\\n",
       "\t245 &  6.03 & 129 & 10 & 1\\\\\n",
       "\t271 & 11.27 & 133 &  2 & 1\\\\\n",
       "\t216 &  2.93 & 160 &  5 & 0\\\\\n",
       "\t89 & 12.11 & 104 & 18 & 0\\\\\n",
       "\t247 & 10.31 & 121 &  0 & 1\\\\\n",
       "\\end{tabular}\n"
      ],
      "text/markdown": [
       "\n",
       "A data.frame: 195 × 4\n",
       "\n",
       "| <!--/--> | Sales &lt;dbl&gt; | Price &lt;int&gt; | Advertising &lt;int&gt; | Region &lt;int&gt; |\n",
       "|---|---|---|---|---|\n",
       "| 150 |  4.67 | 111 |  0 | 0 |\n",
       "| 68 | 12.01 |  94 |  0 | 1 |\n",
       "| 273 |  9.40 |  96 | 17 | 0 |\n",
       "| 43 |  5.05 | 117 |  0 | 1 |\n",
       "| 5 |  6.42 | 126 |  5 | 1 |\n",
       "| 218 |  8.47 | 112 |  0 | 0 |\n",
       "| 159 | 10.43 |  24 |  0 | 1 |\n",
       "| 74 | 11.62 | 139 |  4 | 1 |\n",
       "| 209 |  6.98 |  97 |  0 | 0 |\n",
       "| 96 |  7.78 | 116 |  3 | 1 |\n",
       "| 244 |  7.78 |  64 |  0 | 1 |\n",
       "| 53 |  6.67 | 173 | 13 | 1 |\n",
       "| 197 |  6.97 | 129 | 19 | 0 |\n",
       "| 40 |  7.70 |  89 | 12 | 0 |\n",
       "| 6 |  5.61 | 154 |  9 | 0 |\n",
       "| 200 |  1.42 | 108 | 18 | 1 |\n",
       "| 213 | 14.90 |  82 |  0 | 0 |\n",
       "| 98 |  8.77 | 117 | 11 | 1 |\n",
       "| 149 |  6.89 | 110 | 10 | 0 |\n",
       "| 211 | 13.14 | 105 | 10 | 1 |\n",
       "| 277 |  3.89 | 118 |  0 | 1 |\n",
       "| 85 |  3.90 | 131 |  0 | 1 |\n",
       "| 129 |  5.87 | 109 |  0 | 1 |\n",
       "| 171 |  9.31 | 106 |  9 | 1 |\n",
       "| 78 |  7.91 | 129 |  3 | 1 |\n",
       "| 28 |  3.91 |  98 |  0 | 1 |\n",
       "| 258 |  6.88 | 112 |  0 | 0 |\n",
       "| 112 |  7.36 | 133 |  0 | 1 |\n",
       "| 26 |  5.17 | 120 |  0 | 0 |\n",
       "| 9 |  4.97 | 160 |  0 | 1 |\n",
       "| ⋮ | ⋮ | ⋮ | ⋮ | ⋮ |\n",
       "| 54 |  5.08 | 138 |  6 | 1 |\n",
       "| 195 |  8.77 | 128 | 13 | 1 |\n",
       "| 145 |  4.16 |  95 |  6 | 1 |\n",
       "| 242 |  7.23 | 128 | 18 | 1 |\n",
       "| 29 |  4.90 | 144 | 13 | 0 |\n",
       "| 220 |  8.71 | 144 |  5 | 0 |\n",
       "| 266 |  9.62 | 135 |  8 | 1 |\n",
       "| 237 |  3.47 |  81 |  0 | 0 |\n",
       "| 16 |  5.68 | 106 |  0 | 0 |\n",
       "| 124 |  9.01 | 115 | 14 | 1 |\n",
       "| 184 |  6.50 |  94 |  3 | 1 |\n",
       "| 31 |  6.71 | 137 | 17 | 1 |\n",
       "| 91 | 10.71 |  79 | 10 | 0 |\n",
       "| 182 |  6.14 | 120 |  3 | 0 |\n",
       "| 256 |  5.83 | 112 |  7 | 0 |\n",
       "| 142 |  9.14 |  90 |  0 | 1 |\n",
       "| 30 |  0.91 | 117 |  0 | 1 |\n",
       "| 114 |  7.40 |  97 |  4 | 1 |\n",
       "| 62 |  4.83 | 107 |  3 | 1 |\n",
       "| 264 |  9.46 |  99 | 15 | 1 |\n",
       "| 111 |  7.32 | 107 |  0 | 0 |\n",
       "| 146 | 11.91 |  84 |  0 | 1 |\n",
       "| 177 |  8.19 | 155 |  0 | 0 |\n",
       "| 164 |  4.74 | 140 |  4 | 1 |\n",
       "| 92 |  7.95 | 119 |  3 | 0 |\n",
       "| 245 |  6.03 | 129 | 10 | 1 |\n",
       "| 271 | 11.27 | 133 |  2 | 1 |\n",
       "| 216 |  2.93 | 160 |  5 | 0 |\n",
       "| 89 | 12.11 | 104 | 18 | 0 |\n",
       "| 247 | 10.31 | 121 |  0 | 1 |\n",
       "\n"
      ],
      "text/plain": [
       "    Sales Price Advertising Region\n",
       "150  4.67 111    0          0     \n",
       "68  12.01  94    0          1     \n",
       "273  9.40  96   17          0     \n",
       "43   5.05 117    0          1     \n",
       "5    6.42 126    5          1     \n",
       "218  8.47 112    0          0     \n",
       "159 10.43  24    0          1     \n",
       "74  11.62 139    4          1     \n",
       "209  6.98  97    0          0     \n",
       "96   7.78 116    3          1     \n",
       "244  7.78  64    0          1     \n",
       "53   6.67 173   13          1     \n",
       "197  6.97 129   19          0     \n",
       "40   7.70  89   12          0     \n",
       "6    5.61 154    9          0     \n",
       "200  1.42 108   18          1     \n",
       "213 14.90  82    0          0     \n",
       "98   8.77 117   11          1     \n",
       "149  6.89 110   10          0     \n",
       "211 13.14 105   10          1     \n",
       "277  3.89 118    0          1     \n",
       "85   3.90 131    0          1     \n",
       "129  5.87 109    0          1     \n",
       "171  9.31 106    9          1     \n",
       "78   7.91 129    3          1     \n",
       "28   3.91  98    0          1     \n",
       "258  6.88 112    0          0     \n",
       "112  7.36 133    0          1     \n",
       "26   5.17 120    0          0     \n",
       "9    4.97 160    0          1     \n",
       "⋮   ⋮     ⋮     ⋮           ⋮     \n",
       "54   5.08 138    6          1     \n",
       "195  8.77 128   13          1     \n",
       "145  4.16  95    6          1     \n",
       "242  7.23 128   18          1     \n",
       "29   4.90 144   13          0     \n",
       "220  8.71 144    5          0     \n",
       "266  9.62 135    8          1     \n",
       "237  3.47  81    0          0     \n",
       "16   5.68 106    0          0     \n",
       "124  9.01 115   14          1     \n",
       "184  6.50  94    3          1     \n",
       "31   6.71 137   17          1     \n",
       "91  10.71  79   10          0     \n",
       "182  6.14 120    3          0     \n",
       "256  5.83 112    7          0     \n",
       "142  9.14  90    0          1     \n",
       "30   0.91 117    0          1     \n",
       "114  7.40  97    4          1     \n",
       "62   4.83 107    3          1     \n",
       "264  9.46  99   15          1     \n",
       "111  7.32 107    0          0     \n",
       "146 11.91  84    0          1     \n",
       "177  8.19 155    0          0     \n",
       "164  4.74 140    4          1     \n",
       "92   7.95 119    3          0     \n",
       "245  6.03 129   10          1     \n",
       "271 11.27 133    2          1     \n",
       "216  2.93 160    5          0     \n",
       "89  12.11 104   18          0     \n",
       "247 10.31 121    0          1     "
      ]
     },
     "metadata": {},
     "output_type": "display_data"
    }
   ],
   "source": [
    "# Afficher les données\n",
    "mondata"
   ]
  },
  {
   "cell_type": "markdown",
   "metadata": {},
   "source": [
    "# Histogramme des ventes"
   ]
  },
  {
   "cell_type": "code",
   "execution_count": 110,
   "metadata": {
    "vscode": {
     "languageId": "r"
    }
   },
   "outputs": [
    {
     "data": {
      "image/png": "[encoded data removed]",
      "text/plain": [
       "Plot with title \"Histogramme des ventes\""
      ]
     },
     "metadata": {
      "image/png": {
       "height": 420,
       "width": 420
      }
     },
     "output_type": "display_data"
    }
   ],
   "source": [
    "hist(Y, col=\"gold\",border=\"red\", main=paste(\"Histogramme des ventes\"),\n",
    "     xlab=\"Ventes\",ylab=\"Fréquences\")"
   ]
  },
  {
   "cell_type": "markdown",
   "metadata": {},
   "source": [
    "# Diagramme de Tukey pour les ventes"
   ]
  },
  {
   "cell_type": "code",
   "execution_count": 111,
   "metadata": {
    "vscode": {
     "languageId": "r"
    }
   },
   "outputs": [
    {
     "data": {
      "image/png": "[encoded data removed]",
      "text/plain": [
       "plot without title"
      ]
     },
     "metadata": {
      "image/png": {
       "height": 420,
       "width": 420
      }
     },
     "output_type": "display_data"
    }
   ],
   "source": [
    "boxplot(Y,\n",
    "horizontal=TRUE,\n",
    "col=\"gold\",border=\"red\",\n",
    "xlab=\"Nombre de vente\")"
   ]
  },
  {
   "cell_type": "markdown",
   "metadata": {},
   "source": [
    "# Droite de Henry"
   ]
  },
  {
   "cell_type": "code",
   "execution_count": 112,
   "metadata": {
    "vscode": {
     "languageId": "r"
    }
   },
   "outputs": [
    {
     "data": {
      "image/png": "[encoded data removed]",
      "text/plain": [
       "Plot with title \"Droite de Henry\""
      ]
     },
     "metadata": {
      "image/png": {
       "height": 420,
       "width": 420
      }
     },
     "output_type": "display_data"
    }
   ],
   "source": [
    "qqnorm(Y, col =\"gold\", main=paste(\"Droite de Henry\"))\n",
    "qqline(Y, col =\"red\")\n"
   ]
  },
  {
   "cell_type": "markdown",
   "metadata": {},
   "source": [
    "# Test de normalité (Shapiro-Wilk)"
   ]
  },
  {
   "cell_type": "code",
   "execution_count": 113,
   "metadata": {
    "vscode": {
     "languageId": "r"
    }
   },
   "outputs": [
    {
     "data": {
      "text/plain": [
       "\n",
       "\tShapiro-Wilk normality test\n",
       "\n",
       "data:  Y\n",
       "W = 0.99463, p-value = 0.7128\n"
      ]
     },
     "metadata": {},
     "output_type": "display_data"
    }
   ],
   "source": [
    "shapiro.test(Y)"
   ]
  },
  {
   "cell_type": "markdown",
   "metadata": {},
   "source": [
    "# Interprétation du test de normalité (Shapiro-Wilk)\n",
    "La statistique W représente la correlation entre les quantiles de notre variable de vente et les quantiles théoriques d'une normale de moyenne 0 et de variance 1.\n",
    "Dans notre cas w = 0.99463 ce qui est très prêt de 1 donc les quantiles de notre variable sont très prêt de ce d'une normale.\n",
    "De plus notre p-value = 0.7128 est très élevée comparativement à 0.05\n",
    "Nous pouvons donc dire que nos données sont conformes à une distribution normale  "
   ]
  },
  {
   "cell_type": "markdown",
   "metadata": {},
   "source": [
    "# Tableau de statistique descriptive"
   ]
  },
  {
   "cell_type": "code",
   "execution_count": 114,
   "metadata": {
    "vscode": {
     "languageId": "r"
    }
   },
   "outputs": [
    {
     "data": {
      "text/html": [
       "<table class=\"dataframe\">\n",
       "<caption>A data.frame: 1 × 7</caption>\n",
       "<thead>\n",
       "\t<tr><th scope=col>mondata</th><th scope=col>moyenne</th><th scope=col>écartType</th><th scope=col>q1</th><th scope=col>mediane</th><th scope=col>q3</th><th scope=col>IntervalConfiance</th></tr>\n",
       "\t<tr><th scope=col>&lt;chr&gt;</th><th scope=col>&lt;dbl&gt;</th><th scope=col>&lt;dbl&gt;</th><th scope=col>&lt;dbl&gt;</th><th scope=col>&lt;dbl&gt;</th><th scope=col>&lt;dbl&gt;</th><th scope=col>&lt;chr&gt;</th></tr>\n",
       "</thead>\n",
       "<tbody>\n",
       "\t<tr><td>Sales</td><td>7.301692</td><td>2.826037</td><td>5.14</td><td>7.37</td><td>8.88</td><td>[6.902551, 7.700833]</td></tr>\n",
       "</tbody>\n",
       "</table>\n"
      ],
      "text/latex": [
       "A data.frame: 1 × 7\n",
       "\\begin{tabular}{lllllll}\n",
       " mondata & moyenne & écartType & q1 & mediane & q3 & IntervalConfiance\\\\\n",
       " <chr> & <dbl> & <dbl> & <dbl> & <dbl> & <dbl> & <chr>\\\\\n",
       "\\hline\n",
       "\t Sales & 7.301692 & 2.826037 & 5.14 & 7.37 & 8.88 & {[}6.902551, 7.700833{]}\\\\\n",
       "\\end{tabular}\n"
      ],
      "text/markdown": [
       "\n",
       "A data.frame: 1 × 7\n",
       "\n",
       "| mondata &lt;chr&gt; | moyenne &lt;dbl&gt; | écartType &lt;dbl&gt; | q1 &lt;dbl&gt; | mediane &lt;dbl&gt; | q3 &lt;dbl&gt; | IntervalConfiance &lt;chr&gt; |\n",
       "|---|---|---|---|---|---|---|\n",
       "| Sales | 7.301692 | 2.826037 | 5.14 | 7.37 | 8.88 | [6.902551, 7.700833] |\n",
       "\n"
      ],
      "text/plain": [
       "  mondata moyenne  écartType q1   mediane q3   IntervalConfiance   \n",
       "1 Sales   7.301692 2.826037  5.14 7.37    8.88 [6.902551, 7.700833]"
      ]
     },
     "metadata": {},
     "output_type": "display_data"
    }
   ],
   "source": [
    "mesureStatistique = data.frame(mondata=c(\"Sales\"), \n",
    "                     moyenne=NA, écartType=NA, q1=NA, mediane=NA,\n",
    "                     q3=NA, IntervalConfiance=NA)\n",
    "# moyenne,\n",
    "mesureStatistique$moyenne = sapply(2, function(i) mean(Y)) \n",
    "# quartiles q1, q2 = mediane, q3 \n",
    "mesureStatistique[1, c(\"q1\", \"mediane\", \"q3\")] = quantile(Y, probs = c(0.25,0.5,0.75))\n",
    "# écart type,\n",
    "mesureStatistique$écartType = sapply(2, function(i) sd(Y)) \n",
    "# intervalle de confiance pour la moyenne\n",
    "ci <- t.test(Y, conf.level = 0.95)$conf.int\n",
    "# cat(\"95% Confidence Interval: [\", ci[1], \", \", ci[2], \"]\\n\")\n",
    "mesureStatistique$IntervalConfiance = sprintf(\"[%f, %f]\", ci[1], ci[2])\n",
    "\n",
    "# Afficher le resultat\n",
    "mesureStatistique"
   ]
  },
  {
   "cell_type": "markdown",
   "metadata": {},
   "source": [
    "# PARTIE C: Meilleur modèle"
   ]
  },
  {
   "attachments": {},
   "cell_type": "markdown",
   "metadata": {},
   "source": [
    "## Étude du modèle 1\n",
    "Y = beta0 + beta1*X1 + epsilon"
   ]
  },
  {
   "attachments": {},
   "cell_type": "markdown",
   "metadata": {},
   "source": [
    "### Graphe de regression"
   ]
  },
  {
   "cell_type": "code",
   "execution_count": 115,
   "metadata": {
    "vscode": {
     "languageId": "r"
    }
   },
   "outputs": [
    {
     "data": {
      "image/png": "[encoded data removed]",
      "text/plain": [
       "Plot with title \"Regression linéaire: Ventes ~ Prix\""
      ]
     },
     "metadata": {
      "image/png": {
       "height": 420,
       "width": 420
      }
     },
     "output_type": "display_data"
    }
   ],
   "source": [
    "modele1 <- lm(Y ~ X1)\n",
    "\n",
    "# Create a scatter plot of log(Y) against X1\n",
    "plot(X1, Y, main = \"Regression linéaire: Ventes ~ Prix\", col = \"gold\",\n",
    "     xlab = \"Prix\", ylab = \"Ventes\", pch = 16)\n",
    "\n",
    "# Add the regression line\n",
    "abline(modele1, col = \"red\")"
   ]
  },
  {
   "attachments": {},
   "cell_type": "markdown",
   "metadata": {},
   "source": [
    "### Tableau d'analyse de la variance"
   ]
  },
  {
   "cell_type": "code",
   "execution_count": 116,
   "metadata": {
    "vscode": {
     "languageId": "r"
    }
   },
   "outputs": [
    {
     "data": {
      "text/plain": [
       "\n",
       "Call:\n",
       "lm(formula = Y ~ X1)\n",
       "\n",
       "Residuals:\n",
       "    Min      1Q  Median      3Q     Max \n",
       "-6.3180 -1.8301 -0.0789  1.6660  6.9688 \n",
       "\n",
       "Coefficients:\n",
       "            Estimate Std. Error t value Pr(>|t|)    \n",
       "(Intercept) 12.78009    0.96962  13.180  < 2e-16 ***\n",
       "X1          -0.04745    0.00824  -5.759  3.3e-08 ***\n",
       "---\n",
       "Signif. codes:  0 '***' 0.001 '**' 0.01 '*' 0.05 '.' 0.1 ' ' 1\n",
       "\n",
       "Residual standard error: 2.617 on 193 degrees of freedom\n",
       "Multiple R-squared:  0.1466,\tAdjusted R-squared:  0.1422 \n",
       "F-statistic: 33.16 on 1 and 193 DF,  p-value: 3.297e-08\n"
      ]
     },
     "metadata": {},
     "output_type": "display_data"
    },
    {
     "data": {
      "text/html": [
       "<table class=\"dataframe\">\n",
       "<caption>A anova: 2 × 5</caption>\n",
       "<thead>\n",
       "\t<tr><th></th><th scope=col>Df</th><th scope=col>Sum Sq</th><th scope=col>Mean Sq</th><th scope=col>F value</th><th scope=col>Pr(&gt;F)</th></tr>\n",
       "\t<tr><th></th><th scope=col>&lt;int&gt;</th><th scope=col>&lt;dbl&gt;</th><th scope=col>&lt;dbl&gt;</th><th scope=col>&lt;dbl&gt;</th><th scope=col>&lt;dbl&gt;</th></tr>\n",
       "</thead>\n",
       "<tbody>\n",
       "\t<tr><th scope=row>X1</th><td>  1</td><td> 227.1851</td><td>227.185145</td><td>33.16213</td><td>3.297069e-08</td></tr>\n",
       "\t<tr><th scope=row>Residuals</th><td>193</td><td>1322.1930</td><td>  6.850741</td><td>      NA</td><td>          NA</td></tr>\n",
       "</tbody>\n",
       "</table>\n"
      ],
      "text/latex": [
       "A anova: 2 × 5\n",
       "\\begin{tabular}{r|lllll}\n",
       "  & Df & Sum Sq & Mean Sq & F value & Pr(>F)\\\\\n",
       "  & <int> & <dbl> & <dbl> & <dbl> & <dbl>\\\\\n",
       "\\hline\n",
       "\tX1 &   1 &  227.1851 & 227.185145 & 33.16213 & 3.297069e-08\\\\\n",
       "\tResiduals & 193 & 1322.1930 &   6.850741 &       NA &           NA\\\\\n",
       "\\end{tabular}\n"
      ],
      "text/markdown": [
       "\n",
       "A anova: 2 × 5\n",
       "\n",
       "| <!--/--> | Df &lt;int&gt; | Sum Sq &lt;dbl&gt; | Mean Sq &lt;dbl&gt; | F value &lt;dbl&gt; | Pr(&gt;F) &lt;dbl&gt; |\n",
       "|---|---|---|---|---|---|\n",
       "| X1 |   1 |  227.1851 | 227.185145 | 33.16213 | 3.297069e-08 |\n",
       "| Residuals | 193 | 1322.1930 |   6.850741 |       NA |           NA |\n",
       "\n"
      ],
      "text/plain": [
       "          Df  Sum Sq    Mean Sq    F value  Pr(>F)      \n",
       "X1          1  227.1851 227.185145 33.16213 3.297069e-08\n",
       "Residuals 193 1322.1930   6.850741       NA           NA"
      ]
     },
     "metadata": {},
     "output_type": "display_data"
    }
   ],
   "source": [
    "summary(modele1)\n",
    "anova(modele1)"
   ]
  },
  {
   "attachments": {},
   "cell_type": "markdown",
   "metadata": {},
   "source": [
    "### Analyse des résidus"
   ]
  },
  {
   "cell_type": "code",
   "execution_count": 117,
   "metadata": {
    "vscode": {
     "languageId": "r"
    }
   },
   "outputs": [
    {
     "data": {
      "image/png": "[encoded data removed]",
      "text/plain": [
       "Plot with title \"\""
      ]
     },
     "metadata": {
      "image/png": {
       "height": 420,
       "width": 420
      }
     },
     "output_type": "display_data"
    }
   ],
   "source": [
    "par(mfrow = c(2,2))\n",
    "plot(modele1)"
   ]
  },
  {
   "attachments": {},
   "cell_type": "markdown",
   "metadata": {},
   "source": [
    "### Interval de confiance de beta0 et beta1"
   ]
  },
  {
   "cell_type": "code",
   "execution_count": 118,
   "metadata": {
    "vscode": {
     "languageId": "r"
    }
   },
   "outputs": [
    {
     "name": "stdout",
     "output_type": "stream",
     "text": [
      "Intervalle de confiance pour beta0 (intercept):  10.86768  -  14.69251 \n",
      "Intervalle de confiance pour beta1 (pente):  -0.06370712  -  -0.03120117 \n"
     ]
    }
   ],
   "source": [
    "conf_int <- confint(modele1)\n",
    "cat(\"Intervalle de confiance pour beta0 (intercept): \", conf_int[\"(Intercept)\",\"2.5 %\"], \" - \", conf_int[\"(Intercept)\",\"97.5 %\"], \"\\n\")\n",
    "cat(\"Intervalle de confiance pour beta1 (pente): \", conf_int[\"X1\",\"2.5 %\"], \" - \", conf_int[\"X1\",\"97.5 %\"], \"\\n\")"
   ]
  },
  {
   "attachments": {},
   "cell_type": "markdown",
   "metadata": {},
   "source": [
    "## Étude du modèle 4\n",
    "Y = beta0 + beta1*X2 + epsilon"
   ]
  },
  {
   "cell_type": "markdown",
   "metadata": {},
   "source": [
    "### Graphe de regression"
   ]
  },
  {
   "cell_type": "code",
   "execution_count": 119,
   "metadata": {
    "vscode": {
     "languageId": "r"
    }
   },
   "outputs": [
    {
     "data": {
      "image/png": "[encoded data removed]",
      "text/plain": [
       "Plot with title \"Regression linéaire: Ventes ~ Prix\""
      ]
     },
     "metadata": {
      "image/png": {
       "height": 420,
       "width": 420
      }
     },
     "output_type": "display_data"
    }
   ],
   "source": [
    "modele4 <- lm(Y ~ X2)\n",
    "\n",
    "# Create a scatter plot of log(Y) against X1\n",
    "plot(X2, Y, main = \"Regression linéaire: Ventes ~ Prix\", col = \"gold\",\n",
    "     xlab = \"Prix\", ylab = \"Ventes\", pch = 16)\n",
    "\n",
    "# Add the regression line\n",
    "abline(modele4, col = \"red\")"
   ]
  },
  {
   "cell_type": "markdown",
   "metadata": {},
   "source": [
    "### Tableau d'analyse de la variance"
   ]
  },
  {
   "cell_type": "code",
   "execution_count": 120,
   "metadata": {
    "vscode": {
     "languageId": "r"
    }
   },
   "outputs": [
    {
     "data": {
      "text/plain": [
       "\n",
       "Call:\n",
       "lm(formula = Y ~ X2)\n",
       "\n",
       "Residuals:\n",
       "    Min      1Q  Median      3Q     Max \n",
       "-7.3061 -1.9691 -0.0761  1.6482  8.3197 \n",
       "\n",
       "Coefficients:\n",
       "            Estimate Std. Error t value Pr(>|t|)    \n",
       "(Intercept)  6.58032    0.26632  24.708  < 2e-16 ***\n",
       "X2           0.11921    0.02996   3.978 9.81e-05 ***\n",
       "---\n",
       "Signif. codes:  0 '***' 0.001 '**' 0.01 '*' 0.05 '.' 0.1 ' ' 1\n",
       "\n",
       "Residual standard error: 2.724 on 193 degrees of freedom\n",
       "Multiple R-squared:  0.07579,\tAdjusted R-squared:  0.071 \n",
       "F-statistic: 15.83 on 1 and 193 DF,  p-value: 9.81e-05\n"
      ]
     },
     "metadata": {},
     "output_type": "display_data"
    },
    {
     "data": {
      "text/html": [
       "<table class=\"dataframe\">\n",
       "<caption>A anova: 2 × 5</caption>\n",
       "<thead>\n",
       "\t<tr><th></th><th scope=col>Df</th><th scope=col>Sum Sq</th><th scope=col>Mean Sq</th><th scope=col>F value</th><th scope=col>Pr(&gt;F)</th></tr>\n",
       "\t<tr><th></th><th scope=col>&lt;int&gt;</th><th scope=col>&lt;dbl&gt;</th><th scope=col>&lt;dbl&gt;</th><th scope=col>&lt;dbl&gt;</th><th scope=col>&lt;dbl&gt;</th></tr>\n",
       "</thead>\n",
       "<tbody>\n",
       "\t<tr><th scope=row>X2</th><td>  1</td><td> 117.4309</td><td>117.430892</td><td>15.82751</td><td>9.810356e-05</td></tr>\n",
       "\t<tr><th scope=row>Residuals</th><td>193</td><td>1431.9472</td><td>  7.419416</td><td>      NA</td><td>          NA</td></tr>\n",
       "</tbody>\n",
       "</table>\n"
      ],
      "text/latex": [
       "A anova: 2 × 5\n",
       "\\begin{tabular}{r|lllll}\n",
       "  & Df & Sum Sq & Mean Sq & F value & Pr(>F)\\\\\n",
       "  & <int> & <dbl> & <dbl> & <dbl> & <dbl>\\\\\n",
       "\\hline\n",
       "\tX2 &   1 &  117.4309 & 117.430892 & 15.82751 & 9.810356e-05\\\\\n",
       "\tResiduals & 193 & 1431.9472 &   7.419416 &       NA &           NA\\\\\n",
       "\\end{tabular}\n"
      ],
      "text/markdown": [
       "\n",
       "A anova: 2 × 5\n",
       "\n",
       "| <!--/--> | Df &lt;int&gt; | Sum Sq &lt;dbl&gt; | Mean Sq &lt;dbl&gt; | F value &lt;dbl&gt; | Pr(&gt;F) &lt;dbl&gt; |\n",
       "|---|---|---|---|---|---|\n",
       "| X2 |   1 |  117.4309 | 117.430892 | 15.82751 | 9.810356e-05 |\n",
       "| Residuals | 193 | 1431.9472 |   7.419416 |       NA |           NA |\n",
       "\n"
      ],
      "text/plain": [
       "          Df  Sum Sq    Mean Sq    F value  Pr(>F)      \n",
       "X2          1  117.4309 117.430892 15.82751 9.810356e-05\n",
       "Residuals 193 1431.9472   7.419416       NA           NA"
      ]
     },
     "metadata": {},
     "output_type": "display_data"
    }
   ],
   "source": [
    "summary(modele4)\n",
    "anova(modele4)"
   ]
  },
  {
   "cell_type": "markdown",
   "metadata": {},
   "source": [
    "### Analyse des résidus"
   ]
  },
  {
   "cell_type": "code",
   "execution_count": 121,
   "metadata": {
    "vscode": {
     "languageId": "r"
    }
   },
   "outputs": [
    {
     "data": {
      "image/png": "[encoded data removed]",
      "text/plain": [
       "Plot with title \"\""
      ]
     },
     "metadata": {
      "image/png": {
       "height": 420,
       "width": 420
      }
     },
     "output_type": "display_data"
    }
   ],
   "source": [
    "par(mfrow = c(2,2))\n",
    "plot(modele4)"
   ]
  },
  {
   "cell_type": "markdown",
   "metadata": {},
   "source": [
    "### Interval de confiance de beta0 et beta1"
   ]
  },
  {
   "cell_type": "code",
   "execution_count": 122,
   "metadata": {
    "vscode": {
     "languageId": "r"
    }
   },
   "outputs": [
    {
     "name": "stdout",
     "output_type": "stream",
     "text": [
      "Intervalle de confiance pour beta0 (intercept):  6.055054  -  7.105594 \n",
      "Intervalle de confiance pour beta1 (pente):  0.06010972  -  0.1783085 \n"
     ]
    }
   ],
   "source": [
    "conf_int <- confint(modele4)\n",
    "cat(\"Intervalle de confiance pour beta0 (intercept): \", conf_int[\"(Intercept)\",\"2.5 %\"], \" - \", conf_int[\"(Intercept)\",\"97.5 %\"], \"\\n\")\n",
    "cat(\"Intervalle de confiance pour beta1 (pente): \", conf_int[\"X2\",\"2.5 %\"], \" - \", conf_int[\"X2\",\"97.5 %\"], \"\\n\")"
   ]
  },
  {
   "attachments": {},
   "cell_type": "markdown",
   "metadata": {},
   "source": [
    "## Étude du modèle 2\n",
    "Y = beta0*(X1^beta1)*exp(epsilon)"
   ]
  },
  {
   "cell_type": "markdown",
   "metadata": {},
   "source": [
    "### Graphe de regression"
   ]
  },
  {
   "cell_type": "code",
   "execution_count": 123,
   "metadata": {
    "vscode": {
     "languageId": "r"
    }
   },
   "outputs": [
    {
     "data": {
      "image/png": "[encoded data removed]",
      "text/plain": [
       "Plot with title \"Regression linéaire: log(Ventes) ~ log(Prix)\""
      ]
     },
     "metadata": {
      "image/png": {
       "height": 420,
       "width": 420
      }
     },
     "output_type": "display_data"
    }
   ],
   "source": [
    "modele2 <- lm(log(Y) ~ log(X1))\n",
    "\n",
    "# Create a scatter plot of log(Y) against X1\n",
    "plot(log(X1), log(Y), main = \"Regression linéaire: log(Ventes) ~ log(Prix)\", col = \"gold\",\n",
    "     xlab = \"log(Prix)\", ylab = \"log(Ventes)\", pch = 16)\n",
    "\n",
    "# Add the regression line\n",
    "abline(modele2, col = \"red\")"
   ]
  },
  {
   "cell_type": "markdown",
   "metadata": {},
   "source": [
    "### Tableau d'analyse de la variance"
   ]
  },
  {
   "cell_type": "code",
   "execution_count": 124,
   "metadata": {
    "vscode": {
     "languageId": "r"
    }
   },
   "outputs": [
    {
     "data": {
      "text/plain": [
       "\n",
       "Call:\n",
       "lm(formula = log(Y) ~ log(X1))\n",
       "\n",
       "Residuals:\n",
       "    Min      1Q  Median      3Q     Max \n",
       "-3.5493 -0.2094  0.0945  0.3203  0.8489 \n",
       "\n",
       "Coefficients:\n",
       "            Estimate Std. Error t value Pr(>|t|)    \n",
       "(Intercept)   5.5988     0.7790   7.187 1.41e-11 ***\n",
       "log(X1)      -0.7867     0.1646  -4.779 3.49e-06 ***\n",
       "---\n",
       "Signif. codes:  0 '***' 0.001 '**' 0.01 '*' 0.05 '.' 0.1 ' ' 1\n",
       "\n",
       "Residual standard error: 0.5234 on 193 degrees of freedom\n",
       "Multiple R-squared:  0.1058,\tAdjusted R-squared:  0.1012 \n",
       "F-statistic: 22.83 on 1 and 193 DF,  p-value: 3.49e-06\n"
      ]
     },
     "metadata": {},
     "output_type": "display_data"
    },
    {
     "data": {
      "text/html": [
       "<table class=\"dataframe\">\n",
       "<caption>A anova: 2 × 5</caption>\n",
       "<thead>\n",
       "\t<tr><th></th><th scope=col>Df</th><th scope=col>Sum Sq</th><th scope=col>Mean Sq</th><th scope=col>F value</th><th scope=col>Pr(&gt;F)</th></tr>\n",
       "\t<tr><th></th><th scope=col>&lt;int&gt;</th><th scope=col>&lt;dbl&gt;</th><th scope=col>&lt;dbl&gt;</th><th scope=col>&lt;dbl&gt;</th><th scope=col>&lt;dbl&gt;</th></tr>\n",
       "</thead>\n",
       "<tbody>\n",
       "\t<tr><th scope=row>log(X1)</th><td>  1</td><td> 6.254782</td><td>6.2547816</td><td>22.83441</td><td>3.490291e-06</td></tr>\n",
       "\t<tr><th scope=row>Residuals</th><td>193</td><td>52.866401</td><td>0.2739192</td><td>      NA</td><td>          NA</td></tr>\n",
       "</tbody>\n",
       "</table>\n"
      ],
      "text/latex": [
       "A anova: 2 × 5\n",
       "\\begin{tabular}{r|lllll}\n",
       "  & Df & Sum Sq & Mean Sq & F value & Pr(>F)\\\\\n",
       "  & <int> & <dbl> & <dbl> & <dbl> & <dbl>\\\\\n",
       "\\hline\n",
       "\tlog(X1) &   1 &  6.254782 & 6.2547816 & 22.83441 & 3.490291e-06\\\\\n",
       "\tResiduals & 193 & 52.866401 & 0.2739192 &       NA &           NA\\\\\n",
       "\\end{tabular}\n"
      ],
      "text/markdown": [
       "\n",
       "A anova: 2 × 5\n",
       "\n",
       "| <!--/--> | Df &lt;int&gt; | Sum Sq &lt;dbl&gt; | Mean Sq &lt;dbl&gt; | F value &lt;dbl&gt; | Pr(&gt;F) &lt;dbl&gt; |\n",
       "|---|---|---|---|---|---|\n",
       "| log(X1) |   1 |  6.254782 | 6.2547816 | 22.83441 | 3.490291e-06 |\n",
       "| Residuals | 193 | 52.866401 | 0.2739192 |       NA |           NA |\n",
       "\n"
      ],
      "text/plain": [
       "          Df  Sum Sq    Mean Sq   F value  Pr(>F)      \n",
       "log(X1)     1  6.254782 6.2547816 22.83441 3.490291e-06\n",
       "Residuals 193 52.866401 0.2739192       NA           NA"
      ]
     },
     "metadata": {},
     "output_type": "display_data"
    }
   ],
   "source": [
    "summary(modele2)\n",
    "anova(modele2)"
   ]
  },
  {
   "attachments": {},
   "cell_type": "markdown",
   "metadata": {},
   "source": [
    "### Analyse des résidus"
   ]
  },
  {
   "cell_type": "code",
   "execution_count": 125,
   "metadata": {
    "vscode": {
     "languageId": "r"
    }
   },
   "outputs": [
    {
     "data": {
      "image/png": "[encoded data removed]",
      "text/plain": [
       "Plot with title \"\""
      ]
     },
     "metadata": {
      "image/png": {
       "height": 420,
       "width": 420
      }
     },
     "output_type": "display_data"
    }
   ],
   "source": [
    "par(mfrow = c(2,2))\n",
    "plot(modele2)"
   ]
  },
  {
   "cell_type": "markdown",
   "metadata": {},
   "source": [
    "### Interval de confiance de beta0 et beta1"
   ]
  },
  {
   "cell_type": "code",
   "execution_count": 126,
   "metadata": {
    "vscode": {
     "languageId": "r"
    }
   },
   "outputs": [
    {
     "data": {
      "text/html": [
       "<table class=\"dataframe\">\n",
       "<caption>A matrix: 2 × 2 of type dbl</caption>\n",
       "<thead>\n",
       "\t<tr><th></th><th scope=col>2.5 %</th><th scope=col>97.5 %</th></tr>\n",
       "</thead>\n",
       "<tbody>\n",
       "\t<tr><th scope=row>(Intercept)</th><td> 4.062416</td><td> 7.1352026</td></tr>\n",
       "\t<tr><th scope=row>log(X1)</th><td>-1.111443</td><td>-0.4620053</td></tr>\n",
       "</tbody>\n",
       "</table>\n"
      ],
      "text/latex": [
       "A matrix: 2 × 2 of type dbl\n",
       "\\begin{tabular}{r|ll}\n",
       "  & 2.5 \\% & 97.5 \\%\\\\\n",
       "\\hline\n",
       "\t(Intercept) &  4.062416 &  7.1352026\\\\\n",
       "\tlog(X1) & -1.111443 & -0.4620053\\\\\n",
       "\\end{tabular}\n"
      ],
      "text/markdown": [
       "\n",
       "A matrix: 2 × 2 of type dbl\n",
       "\n",
       "| <!--/--> | 2.5 % | 97.5 % |\n",
       "|---|---|---|\n",
       "| (Intercept) |  4.062416 |  7.1352026 |\n",
       "| log(X1) | -1.111443 | -0.4620053 |\n",
       "\n"
      ],
      "text/plain": [
       "            2.5 %     97.5 %    \n",
       "(Intercept)  4.062416  7.1352026\n",
       "log(X1)     -1.111443 -0.4620053"
      ]
     },
     "metadata": {},
     "output_type": "display_data"
    }
   ],
   "source": [
    "# Obtenir les intervalles de confiance des coefficients\n",
    "conf_int <- confint(modele2) # Calculer les intervalles de confiance\n",
    "# Afficher les résultats\n",
    "conf_int\n"
   ]
  },
  {
   "attachments": {},
   "cell_type": "markdown",
   "metadata": {},
   "source": [
    "## Étude du modèle 5\n",
    "Y = beta0*(X2^beta1)*exp(epsilon)"
   ]
  },
  {
   "cell_type": "markdown",
   "metadata": {},
   "source": [
    "### Graphe de regression"
   ]
  },
  {
   "cell_type": "code",
   "execution_count": 127,
   "metadata": {
    "vscode": {
     "languageId": "r"
    }
   },
   "outputs": [
    {
     "data": {
      "image/png": "[encoded data removed]",
      "text/plain": [
       "Plot with title \"Regression linéaire: log(Ventes) ~ log(publicité)\""
      ]
     },
     "metadata": {
      "image/png": {
       "height": 420,
       "width": 420
      }
     },
     "output_type": "display_data"
    }
   ],
   "source": [
    "modele5 <- lm(log(Y) ~ log(X2+1))\n",
    "\n",
    "# Create a scatter plot of log(Y) against X2\n",
    "plot(log(X2+1), log(Y), main = \"Regression linéaire: log(Ventes) ~ log(publicité)\", col = \"gold\",\n",
    "     xlab = \"log(Publicites)\", ylab = \"log(Vente)\", pch = 16)\n",
    "\n",
    "# Add the regression line\n",
    "abline(modele5, col = \"red\")"
   ]
  },
  {
   "cell_type": "markdown",
   "metadata": {},
   "source": [
    "### Tableau d'analyse de la variance"
   ]
  },
  {
   "cell_type": "code",
   "execution_count": 128,
   "metadata": {
    "vscode": {
     "languageId": "r"
    }
   },
   "outputs": [
    {
     "data": {
      "text/plain": [
       "\n",
       "Call:\n",
       "lm(formula = log(Y) ~ log(X2 + 1))\n",
       "\n",
       "Residuals:\n",
       "    Min      1Q  Median      3Q     Max \n",
       "-3.5813 -0.2042  0.1092  0.3236  0.9527 \n",
       "\n",
       "Coefficients:\n",
       "            Estimate Std. Error t value Pr(>|t|)    \n",
       "(Intercept)  1.74868    0.05845  29.916   <2e-16 ***\n",
       "log(X2 + 1)  0.09768    0.03238   3.017   0.0029 ** \n",
       "---\n",
       "Signif. codes:  0 '***' 0.001 '**' 0.01 '*' 0.05 '.' 0.1 ' ' 1\n",
       "\n",
       "Residual standard error: 0.5409 on 193 degrees of freedom\n",
       "Multiple R-squared:  0.04504,\tAdjusted R-squared:  0.04009 \n",
       "F-statistic: 9.103 on 1 and 193 DF,  p-value: 0.002896\n"
      ]
     },
     "metadata": {},
     "output_type": "display_data"
    },
    {
     "data": {
      "text/html": [
       "<table class=\"dataframe\">\n",
       "<caption>A anova: 2 × 5</caption>\n",
       "<thead>\n",
       "\t<tr><th></th><th scope=col>Df</th><th scope=col>Sum Sq</th><th scope=col>Mean Sq</th><th scope=col>F value</th><th scope=col>Pr(&gt;F)</th></tr>\n",
       "\t<tr><th></th><th scope=col>&lt;int&gt;</th><th scope=col>&lt;dbl&gt;</th><th scope=col>&lt;dbl&gt;</th><th scope=col>&lt;dbl&gt;</th><th scope=col>&lt;dbl&gt;</th></tr>\n",
       "</thead>\n",
       "<tbody>\n",
       "\t<tr><th scope=row>log(X2 + 1)</th><td>  1</td><td> 2.662934</td><td>2.6629339</td><td>9.103121</td><td>0.002895722</td></tr>\n",
       "\t<tr><th scope=row>Residuals</th><td>193</td><td>56.458249</td><td>0.2925298</td><td>      NA</td><td>         NA</td></tr>\n",
       "</tbody>\n",
       "</table>\n"
      ],
      "text/latex": [
       "A anova: 2 × 5\n",
       "\\begin{tabular}{r|lllll}\n",
       "  & Df & Sum Sq & Mean Sq & F value & Pr(>F)\\\\\n",
       "  & <int> & <dbl> & <dbl> & <dbl> & <dbl>\\\\\n",
       "\\hline\n",
       "\tlog(X2 + 1) &   1 &  2.662934 & 2.6629339 & 9.103121 & 0.002895722\\\\\n",
       "\tResiduals & 193 & 56.458249 & 0.2925298 &       NA &          NA\\\\\n",
       "\\end{tabular}\n"
      ],
      "text/markdown": [
       "\n",
       "A anova: 2 × 5\n",
       "\n",
       "| <!--/--> | Df &lt;int&gt; | Sum Sq &lt;dbl&gt; | Mean Sq &lt;dbl&gt; | F value &lt;dbl&gt; | Pr(&gt;F) &lt;dbl&gt; |\n",
       "|---|---|---|---|---|---|\n",
       "| log(X2 + 1) |   1 |  2.662934 | 2.6629339 | 9.103121 | 0.002895722 |\n",
       "| Residuals | 193 | 56.458249 | 0.2925298 |       NA |          NA |\n",
       "\n"
      ],
      "text/plain": [
       "            Df  Sum Sq    Mean Sq   F value  Pr(>F)     \n",
       "log(X2 + 1)   1  2.662934 2.6629339 9.103121 0.002895722\n",
       "Residuals   193 56.458249 0.2925298       NA          NA"
      ]
     },
     "metadata": {},
     "output_type": "display_data"
    }
   ],
   "source": [
    "summary(modele5)\n",
    "anova(modele5)"
   ]
  },
  {
   "cell_type": "markdown",
   "metadata": {},
   "source": [
    "### Analyse des résidus"
   ]
  },
  {
   "cell_type": "code",
   "execution_count": 129,
   "metadata": {
    "vscode": {
     "languageId": "r"
    }
   },
   "outputs": [
    {
     "data": {
      "image/png": "[encoded data removed]",
      "text/plain": [
       "Plot with title \"\""
      ]
     },
     "metadata": {
      "image/png": {
       "height": 420,
       "width": 420
      }
     },
     "output_type": "display_data"
    }
   ],
   "source": [
    "par(mfrow = c(2,2))\n",
    "plot(modele5)"
   ]
  },
  {
   "cell_type": "markdown",
   "metadata": {},
   "source": [
    "### Interval de confiance de beta0 et beta1"
   ]
  },
  {
   "cell_type": "code",
   "execution_count": 130,
   "metadata": {
    "vscode": {
     "languageId": "r"
    }
   },
   "outputs": [
    {
     "data": {
      "text/html": [
       "<table class=\"dataframe\">\n",
       "<caption>A matrix: 2 × 2 of type dbl</caption>\n",
       "<thead>\n",
       "\t<tr><th></th><th scope=col>2.5 %</th><th scope=col>97.5 %</th></tr>\n",
       "</thead>\n",
       "<tbody>\n",
       "\t<tr><th scope=row>(Intercept)</th><td>1.63339134</td><td>1.8639703</td></tr>\n",
       "\t<tr><th scope=row>log(X2 + 1)</th><td>0.03382592</td><td>0.1615356</td></tr>\n",
       "</tbody>\n",
       "</table>\n"
      ],
      "text/latex": [
       "A matrix: 2 × 2 of type dbl\n",
       "\\begin{tabular}{r|ll}\n",
       "  & 2.5 \\% & 97.5 \\%\\\\\n",
       "\\hline\n",
       "\t(Intercept) & 1.63339134 & 1.8639703\\\\\n",
       "\tlog(X2 + 1) & 0.03382592 & 0.1615356\\\\\n",
       "\\end{tabular}\n"
      ],
      "text/markdown": [
       "\n",
       "A matrix: 2 × 2 of type dbl\n",
       "\n",
       "| <!--/--> | 2.5 % | 97.5 % |\n",
       "|---|---|---|\n",
       "| (Intercept) | 1.63339134 | 1.8639703 |\n",
       "| log(X2 + 1) | 0.03382592 | 0.1615356 |\n",
       "\n"
      ],
      "text/plain": [
       "            2.5 %      97.5 %   \n",
       "(Intercept) 1.63339134 1.8639703\n",
       "log(X2 + 1) 0.03382592 0.1615356"
      ]
     },
     "metadata": {},
     "output_type": "display_data"
    }
   ],
   "source": [
    "# Obtenir les intervalles de confiance des coefficients\n",
    "conf_int <- confint(modele5) # Calculer les intervalles de confiance\n",
    "# Afficher les résultats\n",
    "conf_int\n"
   ]
  },
  {
   "attachments": {},
   "cell_type": "markdown",
   "metadata": {},
   "source": [
    "## Étude du modèle 3\n",
    "Y = beta0 * exp[(beta1 * X1) + epsilon]"
   ]
  },
  {
   "cell_type": "markdown",
   "metadata": {},
   "source": [
    "### Graphe de regression"
   ]
  },
  {
   "cell_type": "code",
   "execution_count": 131,
   "metadata": {
    "vscode": {
     "languageId": "r"
    }
   },
   "outputs": [
    {
     "data": {
      "image/png": "[encoded data removed]",
      "text/plain": [
       "Plot with title \"Regression linéaire: log(Ventes) ~ prix\""
      ]
     },
     "metadata": {
      "image/png": {
       "height": 420,
       "width": 420
      }
     },
     "output_type": "display_data"
    }
   ],
   "source": [
    "modele3 <- lm(log(Y) ~ (X1))\n",
    "\n",
    "# Create a scatter plot of log(Y) against X1\n",
    "plot(X1, log(Y), main = \"Regression linéaire: log(Ventes) ~ prix\", col = \"gold\",\n",
    "     xlab = \"Prix\", ylab = \"log(Vente)\", pch = 16)\n",
    "\n",
    "# Add the regression line\n",
    "abline(modele3, col = \"red\")"
   ]
  },
  {
   "cell_type": "markdown",
   "metadata": {},
   "source": [
    "### Tableau d'analyse de la variance"
   ]
  },
  {
   "cell_type": "code",
   "execution_count": 132,
   "metadata": {
    "vscode": {
     "languageId": "r"
    }
   },
   "outputs": [
    {
     "data": {
      "text/plain": [
       "\n",
       "Call:\n",
       "lm(formula = log(Y) ~ (X1))\n",
       "\n",
       "Residuals:\n",
       "    Min      1Q  Median      3Q     Max \n",
       "-3.5082 -0.2117  0.1009  0.3088  0.8753 \n",
       "\n",
       "Coefficients:\n",
       "             Estimate Std. Error t value Pr(>|t|)    \n",
       "(Intercept)  2.886067   0.191310  15.086  < 2e-16 ***\n",
       "X1          -0.008708   0.001626  -5.356 2.41e-07 ***\n",
       "---\n",
       "Signif. codes:  0 '***' 0.001 '**' 0.01 '*' 0.05 '.' 0.1 ' ' 1\n",
       "\n",
       "Residual standard error: 0.5164 on 193 degrees of freedom\n",
       "Multiple R-squared:  0.1294,\tAdjusted R-squared:  0.1249 \n",
       "F-statistic: 28.68 on 1 and 193 DF,  p-value: 2.407e-07\n"
      ]
     },
     "metadata": {},
     "output_type": "display_data"
    },
    {
     "data": {
      "text/html": [
       "<table class=\"dataframe\">\n",
       "<caption>A anova: 2 × 5</caption>\n",
       "<thead>\n",
       "\t<tr><th></th><th scope=col>Df</th><th scope=col>Sum Sq</th><th scope=col>Mean Sq</th><th scope=col>F value</th><th scope=col>Pr(&gt;F)</th></tr>\n",
       "\t<tr><th></th><th scope=col>&lt;int&gt;</th><th scope=col>&lt;dbl&gt;</th><th scope=col>&lt;dbl&gt;</th><th scope=col>&lt;dbl&gt;</th><th scope=col>&lt;dbl&gt;</th></tr>\n",
       "</thead>\n",
       "<tbody>\n",
       "\t<tr><th scope=row>X1</th><td>  1</td><td> 7.650003</td><td>7.6500029</td><td>28.685</td><td>2.407054e-07</td></tr>\n",
       "\t<tr><th scope=row>Residuals</th><td>193</td><td>51.471180</td><td>0.2666901</td><td>    NA</td><td>          NA</td></tr>\n",
       "</tbody>\n",
       "</table>\n"
      ],
      "text/latex": [
       "A anova: 2 × 5\n",
       "\\begin{tabular}{r|lllll}\n",
       "  & Df & Sum Sq & Mean Sq & F value & Pr(>F)\\\\\n",
       "  & <int> & <dbl> & <dbl> & <dbl> & <dbl>\\\\\n",
       "\\hline\n",
       "\tX1 &   1 &  7.650003 & 7.6500029 & 28.685 & 2.407054e-07\\\\\n",
       "\tResiduals & 193 & 51.471180 & 0.2666901 &     NA &           NA\\\\\n",
       "\\end{tabular}\n"
      ],
      "text/markdown": [
       "\n",
       "A anova: 2 × 5\n",
       "\n",
       "| <!--/--> | Df &lt;int&gt; | Sum Sq &lt;dbl&gt; | Mean Sq &lt;dbl&gt; | F value &lt;dbl&gt; | Pr(&gt;F) &lt;dbl&gt; |\n",
       "|---|---|---|---|---|---|\n",
       "| X1 |   1 |  7.650003 | 7.6500029 | 28.685 | 2.407054e-07 |\n",
       "| Residuals | 193 | 51.471180 | 0.2666901 |     NA |           NA |\n",
       "\n"
      ],
      "text/plain": [
       "          Df  Sum Sq    Mean Sq   F value Pr(>F)      \n",
       "X1          1  7.650003 7.6500029 28.685  2.407054e-07\n",
       "Residuals 193 51.471180 0.2666901     NA            NA"
      ]
     },
     "metadata": {},
     "output_type": "display_data"
    }
   ],
   "source": [
    "summary(modele3)\n",
    "anova(modele3)"
   ]
  },
  {
   "cell_type": "markdown",
   "metadata": {},
   "source": [
    "### Analyse des résidus"
   ]
  },
  {
   "cell_type": "code",
   "execution_count": 133,
   "metadata": {
    "vscode": {
     "languageId": "r"
    }
   },
   "outputs": [
    {
     "data": {
      "image/png": "[encoded data removed]",
      "text/plain": [
       "Plot with title \"\""
      ]
     },
     "metadata": {
      "image/png": {
       "height": 420,
       "width": 420
      }
     },
     "output_type": "display_data"
    }
   ],
   "source": [
    "par(mfrow = c(2,2))\n",
    "plot(modele3)"
   ]
  },
  {
   "cell_type": "markdown",
   "metadata": {},
   "source": [
    "### Interval de confiance de beta0 et beta1"
   ]
  },
  {
   "cell_type": "code",
   "execution_count": 134,
   "metadata": {
    "vscode": {
     "languageId": "r"
    }
   },
   "outputs": [
    {
     "data": {
      "text/html": [
       "<table class=\"dataframe\">\n",
       "<caption>A matrix: 2 × 2 of type dbl</caption>\n",
       "<thead>\n",
       "\t<tr><th></th><th scope=col>2.5 %</th><th scope=col>97.5 %</th></tr>\n",
       "</thead>\n",
       "<tbody>\n",
       "\t<tr><th scope=row>(Intercept)</th><td> 2.5087406</td><td> 3.263392759</td></tr>\n",
       "\t<tr><th scope=row>X1</th><td>-0.0119147</td><td>-0.005501163</td></tr>\n",
       "</tbody>\n",
       "</table>\n"
      ],
      "text/latex": [
       "A matrix: 2 × 2 of type dbl\n",
       "\\begin{tabular}{r|ll}\n",
       "  & 2.5 \\% & 97.5 \\%\\\\\n",
       "\\hline\n",
       "\t(Intercept) &  2.5087406 &  3.263392759\\\\\n",
       "\tX1 & -0.0119147 & -0.005501163\\\\\n",
       "\\end{tabular}\n"
      ],
      "text/markdown": [
       "\n",
       "A matrix: 2 × 2 of type dbl\n",
       "\n",
       "| <!--/--> | 2.5 % | 97.5 % |\n",
       "|---|---|---|\n",
       "| (Intercept) |  2.5087406 |  3.263392759 |\n",
       "| X1 | -0.0119147 | -0.005501163 |\n",
       "\n"
      ],
      "text/plain": [
       "            2.5 %      97.5 %      \n",
       "(Intercept)  2.5087406  3.263392759\n",
       "X1          -0.0119147 -0.005501163"
      ]
     },
     "metadata": {},
     "output_type": "display_data"
    }
   ],
   "source": [
    "# Obtenir les intervalles de confiance des coefficients\n",
    "conf_int <- confint(modele3) # Calculer les intervalles de confiance\n",
    "# Afficher les résultats\n",
    "conf_int\n"
   ]
  },
  {
   "attachments": {},
   "cell_type": "markdown",
   "metadata": {},
   "source": [
    "## Étude du modèle 6\n",
    "Y = beta0 * exp[(beta1 * X2) + epsilon]"
   ]
  },
  {
   "cell_type": "markdown",
   "metadata": {},
   "source": [
    "### Graphe de regression"
   ]
  },
  {
   "cell_type": "code",
   "execution_count": 135,
   "metadata": {
    "vscode": {
     "languageId": "r"
    }
   },
   "outputs": [
    {
     "data": {
      "image/png": "[encoded data removed]",
      "text/plain": [
       "Plot with title \"Regression linéaire: log(Ventes) ~ publicité\""
      ]
     },
     "metadata": {
      "image/png": {
       "height": 420,
       "width": 420
      }
     },
     "output_type": "display_data"
    }
   ],
   "source": [
    "modele6 <- lm(log(Y) ~ X2)\n",
    "\n",
    "# Create a scatter plot of log(Y) against X1\n",
    "plot(X2, log(Y), main = \"Regression linéaire: log(Ventes) ~ publicité\", col = \"gold\",\n",
    "     xlab = \"Publicites\", ylab = \"log(Vente)\", pch = 16)\n",
    "\n",
    "# Add the regression line\n",
    "abline(modele6, col = \"red\")"
   ]
  },
  {
   "cell_type": "markdown",
   "metadata": {},
   "source": [
    "### Tableau d'analyse de la variance"
   ]
  },
  {
   "cell_type": "code",
   "execution_count": 136,
   "metadata": {
    "vscode": {
     "languageId": "r"
    }
   },
   "outputs": [
    {
     "data": {
      "text/plain": [
       "\n",
       "Call:\n",
       "lm(formula = log(Y) ~ X2)\n",
       "\n",
       "Residuals:\n",
       "    Min      1Q  Median      3Q     Max \n",
       "-3.5946 -0.2097  0.0786  0.3039  0.9394 \n",
       "\n",
       "Coefficients:\n",
       "            Estimate Std. Error t value Pr(>|t|)    \n",
       "(Intercept) 1.761991   0.052637  33.474   <2e-16 ***\n",
       "X2          0.019629   0.005922   3.314   0.0011 ** \n",
       "---\n",
       "Signif. codes:  0 '***' 0.001 '**' 0.01 '*' 0.05 '.' 0.1 ' ' 1\n",
       "\n",
       "Residual standard error: 0.5384 on 193 degrees of freedom\n",
       "Multiple R-squared:  0.05385,\tAdjusted R-squared:  0.04895 \n",
       "F-statistic: 10.98 on 1 and 193 DF,  p-value: 0.001097\n"
      ]
     },
     "metadata": {},
     "output_type": "display_data"
    },
    {
     "data": {
      "text/html": [
       "<table class=\"dataframe\">\n",
       "<caption>A anova: 2 × 5</caption>\n",
       "<thead>\n",
       "\t<tr><th></th><th scope=col>Df</th><th scope=col>Sum Sq</th><th scope=col>Mean Sq</th><th scope=col>F value</th><th scope=col>Pr(&gt;F)</th></tr>\n",
       "\t<tr><th></th><th scope=col>&lt;int&gt;</th><th scope=col>&lt;dbl&gt;</th><th scope=col>&lt;dbl&gt;</th><th scope=col>&lt;dbl&gt;</th><th scope=col>&lt;dbl&gt;</th></tr>\n",
       "</thead>\n",
       "<tbody>\n",
       "\t<tr><th scope=row>X2</th><td>  1</td><td> 3.183783</td><td>3.1837828</td><td>10.98496</td><td>0.001097021</td></tr>\n",
       "\t<tr><th scope=row>Residuals</th><td>193</td><td>55.937400</td><td>0.2898311</td><td>      NA</td><td>         NA</td></tr>\n",
       "</tbody>\n",
       "</table>\n"
      ],
      "text/latex": [
       "A anova: 2 × 5\n",
       "\\begin{tabular}{r|lllll}\n",
       "  & Df & Sum Sq & Mean Sq & F value & Pr(>F)\\\\\n",
       "  & <int> & <dbl> & <dbl> & <dbl> & <dbl>\\\\\n",
       "\\hline\n",
       "\tX2 &   1 &  3.183783 & 3.1837828 & 10.98496 & 0.001097021\\\\\n",
       "\tResiduals & 193 & 55.937400 & 0.2898311 &       NA &          NA\\\\\n",
       "\\end{tabular}\n"
      ],
      "text/markdown": [
       "\n",
       "A anova: 2 × 5\n",
       "\n",
       "| <!--/--> | Df &lt;int&gt; | Sum Sq &lt;dbl&gt; | Mean Sq &lt;dbl&gt; | F value &lt;dbl&gt; | Pr(&gt;F) &lt;dbl&gt; |\n",
       "|---|---|---|---|---|---|\n",
       "| X2 |   1 |  3.183783 | 3.1837828 | 10.98496 | 0.001097021 |\n",
       "| Residuals | 193 | 55.937400 | 0.2898311 |       NA |          NA |\n",
       "\n"
      ],
      "text/plain": [
       "          Df  Sum Sq    Mean Sq   F value  Pr(>F)     \n",
       "X2          1  3.183783 3.1837828 10.98496 0.001097021\n",
       "Residuals 193 55.937400 0.2898311       NA          NA"
      ]
     },
     "metadata": {},
     "output_type": "display_data"
    }
   ],
   "source": [
    "summary(modele6)\n",
    "anova(modele6)"
   ]
  },
  {
   "cell_type": "markdown",
   "metadata": {},
   "source": [
    "### Analyse des résidus"
   ]
  },
  {
   "cell_type": "code",
   "execution_count": 137,
   "metadata": {
    "vscode": {
     "languageId": "r"
    }
   },
   "outputs": [
    {
     "data": {
      "image/png": "[encoded data removed]",
      "text/plain": [
       "Plot with title \"\""
      ]
     },
     "metadata": {
      "image/png": {
       "height": 420,
       "width": 420
      }
     },
     "output_type": "display_data"
    }
   ],
   "source": [
    "par(mfrow = c(2,2))\n",
    "plot(modele6)"
   ]
  },
  {
   "cell_type": "markdown",
   "metadata": {},
   "source": [
    "### Interval de confiance de beta0 et beta1"
   ]
  },
  {
   "cell_type": "code",
   "execution_count": 138,
   "metadata": {
    "vscode": {
     "languageId": "r"
    }
   },
   "outputs": [
    {
     "data": {
      "text/html": [
       "<table class=\"dataframe\">\n",
       "<caption>A matrix: 2 × 2 of type dbl</caption>\n",
       "<thead>\n",
       "\t<tr><th></th><th scope=col>2.5 %</th><th scope=col>97.5 %</th></tr>\n",
       "</thead>\n",
       "<tbody>\n",
       "\t<tr><th scope=row>(Intercept)</th><td>1.658173818</td><td>1.86580864</td></tr>\n",
       "\t<tr><th scope=row>X2</th><td>0.007947882</td><td>0.03130938</td></tr>\n",
       "</tbody>\n",
       "</table>\n"
      ],
      "text/latex": [
       "A matrix: 2 × 2 of type dbl\n",
       "\\begin{tabular}{r|ll}\n",
       "  & 2.5 \\% & 97.5 \\%\\\\\n",
       "\\hline\n",
       "\t(Intercept) & 1.658173818 & 1.86580864\\\\\n",
       "\tX2 & 0.007947882 & 0.03130938\\\\\n",
       "\\end{tabular}\n"
      ],
      "text/markdown": [
       "\n",
       "A matrix: 2 × 2 of type dbl\n",
       "\n",
       "| <!--/--> | 2.5 % | 97.5 % |\n",
       "|---|---|---|\n",
       "| (Intercept) | 1.658173818 | 1.86580864 |\n",
       "| X2 | 0.007947882 | 0.03130938 |\n",
       "\n"
      ],
      "text/plain": [
       "            2.5 %       97.5 %    \n",
       "(Intercept) 1.658173818 1.86580864\n",
       "X2          0.007947882 0.03130938"
      ]
     },
     "metadata": {},
     "output_type": "display_data"
    }
   ],
   "source": [
    "# Obtenir les intervalles de confiance des coefficients\n",
    "conf_int <- confint(modele6) # Calculer les intervalles de confiance\n",
    "# Afficher les résultats\n",
    "conf_int\n"
   ]
  },
  {
   "attachments": {},
   "cell_type": "markdown",
   "metadata": {},
   "source": [
    "## Choix du meilleur modèle:"
   ]
  },
  {
   "attachments": {},
   "cell_type": "markdown",
   "metadata": {},
   "source": [
    "## Prévision des ventes en fonction du meilleur modele"
   ]
  },
  {
   "cell_type": "code",
   "execution_count": 139,
   "metadata": {
    "vscode": {
     "languageId": "r"
    }
   },
   "outputs": [
    {
     "data": {
      "text/html": [
       "<pre class=language-r><code>function (object, ...) \n",
       "UseMethod(\"predict\")</code></pre>"
      ],
      "text/latex": [
       "\\begin{minted}{r}\n",
       "function (object, ...) \n",
       "UseMethod(\"predict\")\n",
       "\\end{minted}"
      ],
      "text/markdown": [
       "```r\n",
       "function (object, ...) \n",
       "UseMethod(\"predict\")\n",
       "```"
      ],
      "text/plain": [
       "function (object, ...) \n",
       "UseMethod(\"predict\")\n",
       "<bytecode: 0x0000015893af3a60>\n",
       "<environment: namespace:stats>"
      ]
     },
     "metadata": {},
     "output_type": "display_data"
    }
   ],
   "source": [
    "predict"
   ]
  }
 ],
 "metadata": {
  "kernelspec": {
   "display_name": "R",
   "language": "R",
   "name": "ir"
  },
  "language_info": {
   "codemirror_mode": "r",
   "file_extension": ".r",
   "mimetype": "text/x-r-source",
   "name": "R",
   "pygments_lexer": "r",
   "version": "4.2.2"
  }
 },
 "nbformat": 4,
 "nbformat_minor": 2
}
