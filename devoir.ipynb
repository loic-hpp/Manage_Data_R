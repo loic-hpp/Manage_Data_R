{
 "cells": [
  {
   "cell_type": "code",
   "execution_count": 1,
   "id": "36859883",
   "metadata": {},
   "outputs": [
    {
     "data": {
      "text/html": [
       "<table>\n",
       "<thead><tr><th></th><th scope=col>Sales</th><th scope=col>Price</th><th scope=col>Advertising</th><th scope=col>Region</th></tr></thead>\n",
       "<tbody>\n",
       "\t<tr><th scope=row>150</th><td> 4.67</td><td>111  </td><td> 0   </td><td>0    </td></tr>\n",
       "\t<tr><th scope=row>68</th><td>12.01</td><td> 94  </td><td> 0   </td><td>1    </td></tr>\n",
       "\t<tr><th scope=row>273</th><td> 9.40</td><td> 96  </td><td>17   </td><td>0    </td></tr>\n",
       "\t<tr><th scope=row>43</th><td> 5.05</td><td>117  </td><td> 0   </td><td>1    </td></tr>\n",
       "\t<tr><th scope=row>5</th><td> 6.42</td><td>126  </td><td> 5   </td><td>1    </td></tr>\n",
       "\t<tr><th scope=row>218</th><td> 8.47</td><td>112  </td><td> 0   </td><td>0    </td></tr>\n",
       "\t<tr><th scope=row>159</th><td>10.43</td><td> 24  </td><td> 0   </td><td>1    </td></tr>\n",
       "\t<tr><th scope=row>74</th><td>11.62</td><td>139  </td><td> 4   </td><td>1    </td></tr>\n",
       "\t<tr><th scope=row>209</th><td> 6.98</td><td> 97  </td><td> 0   </td><td>0    </td></tr>\n",
       "\t<tr><th scope=row>96</th><td> 7.78</td><td>116  </td><td> 3   </td><td>1    </td></tr>\n",
       "\t<tr><th scope=row>244</th><td> 7.78</td><td> 64  </td><td> 0   </td><td>1    </td></tr>\n",
       "\t<tr><th scope=row>53</th><td> 6.67</td><td>173  </td><td>13   </td><td>1    </td></tr>\n",
       "\t<tr><th scope=row>197</th><td> 6.97</td><td>129  </td><td>19   </td><td>0    </td></tr>\n",
       "\t<tr><th scope=row>40</th><td> 7.70</td><td> 89  </td><td>12   </td><td>0    </td></tr>\n",
       "\t<tr><th scope=row>6</th><td> 5.61</td><td>154  </td><td> 9   </td><td>0    </td></tr>\n",
       "\t<tr><th scope=row>200</th><td> 1.42</td><td>108  </td><td>18   </td><td>1    </td></tr>\n",
       "\t<tr><th scope=row>213</th><td>14.90</td><td> 82  </td><td> 0   </td><td>0    </td></tr>\n",
       "\t<tr><th scope=row>98</th><td> 8.77</td><td>117  </td><td>11   </td><td>1    </td></tr>\n",
       "\t<tr><th scope=row>149</th><td> 6.89</td><td>110  </td><td>10   </td><td>0    </td></tr>\n",
       "\t<tr><th scope=row>211</th><td>13.14</td><td>105  </td><td>10   </td><td>1    </td></tr>\n",
       "\t<tr><th scope=row>277</th><td> 3.89</td><td>118  </td><td> 0   </td><td>1    </td></tr>\n",
       "\t<tr><th scope=row>85</th><td> 3.90</td><td>131  </td><td> 0   </td><td>1    </td></tr>\n",
       "\t<tr><th scope=row>129</th><td> 5.87</td><td>109  </td><td> 0   </td><td>1    </td></tr>\n",
       "\t<tr><th scope=row>171</th><td> 9.31</td><td>106  </td><td> 9   </td><td>1    </td></tr>\n",
       "\t<tr><th scope=row>78</th><td> 7.91</td><td>129  </td><td> 3   </td><td>1    </td></tr>\n",
       "\t<tr><th scope=row>28</th><td> 3.91</td><td> 98  </td><td> 0   </td><td>1    </td></tr>\n",
       "\t<tr><th scope=row>258</th><td> 6.88</td><td>112  </td><td> 0   </td><td>0    </td></tr>\n",
       "\t<tr><th scope=row>112</th><td> 7.36</td><td>133  </td><td> 0   </td><td>1    </td></tr>\n",
       "\t<tr><th scope=row>26</th><td> 5.17</td><td>120  </td><td> 0   </td><td>0    </td></tr>\n",
       "\t<tr><th scope=row>9</th><td> 4.97</td><td>160  </td><td> 0   </td><td>1    </td></tr>\n",
       "\t<tr><th scope=row>...</th><td>...</td><td>...</td><td>...</td><td>...</td></tr>\n",
       "\t<tr><th scope=row>54</th><td> 5.08</td><td>138  </td><td> 6   </td><td>1    </td></tr>\n",
       "\t<tr><th scope=row>195</th><td> 8.77</td><td>128  </td><td>13   </td><td>1    </td></tr>\n",
       "\t<tr><th scope=row>145</th><td> 4.16</td><td> 95  </td><td> 6   </td><td>1    </td></tr>\n",
       "\t<tr><th scope=row>242</th><td> 7.23</td><td>128  </td><td>18   </td><td>1    </td></tr>\n",
       "\t<tr><th scope=row>29</th><td> 4.90</td><td>144  </td><td>13   </td><td>0    </td></tr>\n",
       "\t<tr><th scope=row>220</th><td> 8.71</td><td>144  </td><td> 5   </td><td>0    </td></tr>\n",
       "\t<tr><th scope=row>266</th><td> 9.62</td><td>135  </td><td> 8   </td><td>1    </td></tr>\n",
       "\t<tr><th scope=row>237</th><td> 3.47</td><td> 81  </td><td> 0   </td><td>0    </td></tr>\n",
       "\t<tr><th scope=row>16</th><td> 5.68</td><td>106  </td><td> 0   </td><td>0    </td></tr>\n",
       "\t<tr><th scope=row>124</th><td> 9.01</td><td>115  </td><td>14   </td><td>1    </td></tr>\n",
       "\t<tr><th scope=row>184</th><td> 6.50</td><td> 94  </td><td> 3   </td><td>1    </td></tr>\n",
       "\t<tr><th scope=row>31</th><td> 6.71</td><td>137  </td><td>17   </td><td>1    </td></tr>\n",
       "\t<tr><th scope=row>91</th><td>10.71</td><td> 79  </td><td>10   </td><td>0    </td></tr>\n",
       "\t<tr><th scope=row>182</th><td> 6.14</td><td>120  </td><td> 3   </td><td>0    </td></tr>\n",
       "\t<tr><th scope=row>256</th><td> 5.83</td><td>112  </td><td> 7   </td><td>0    </td></tr>\n",
       "\t<tr><th scope=row>142</th><td> 9.14</td><td> 90  </td><td> 0   </td><td>1    </td></tr>\n",
       "\t<tr><th scope=row>30</th><td> 0.91</td><td>117  </td><td> 0   </td><td>1    </td></tr>\n",
       "\t<tr><th scope=row>114</th><td> 7.40</td><td> 97  </td><td> 4   </td><td>1    </td></tr>\n",
       "\t<tr><th scope=row>62</th><td> 4.83</td><td>107  </td><td> 3   </td><td>1    </td></tr>\n",
       "\t<tr><th scope=row>264</th><td> 9.46</td><td> 99  </td><td>15   </td><td>1    </td></tr>\n",
       "\t<tr><th scope=row>111</th><td> 7.32</td><td>107  </td><td> 0   </td><td>0    </td></tr>\n",
       "\t<tr><th scope=row>146</th><td>11.91</td><td> 84  </td><td> 0   </td><td>1    </td></tr>\n",
       "\t<tr><th scope=row>177</th><td> 8.19</td><td>155  </td><td> 0   </td><td>0    </td></tr>\n",
       "\t<tr><th scope=row>164</th><td> 4.74</td><td>140  </td><td> 4   </td><td>1    </td></tr>\n",
       "\t<tr><th scope=row>92</th><td> 7.95</td><td>119  </td><td> 3   </td><td>0    </td></tr>\n",
       "\t<tr><th scope=row>245</th><td> 6.03</td><td>129  </td><td>10   </td><td>1    </td></tr>\n",
       "\t<tr><th scope=row>271</th><td>11.27</td><td>133  </td><td> 2   </td><td>1    </td></tr>\n",
       "\t<tr><th scope=row>216</th><td> 2.93</td><td>160  </td><td> 5   </td><td>0    </td></tr>\n",
       "\t<tr><th scope=row>89</th><td>12.11</td><td>104  </td><td>18   </td><td>0    </td></tr>\n",
       "\t<tr><th scope=row>247</th><td>10.31</td><td>121  </td><td> 0   </td><td>1    </td></tr>\n",
       "</tbody>\n",
       "</table>\n"
      ],
      "text/latex": [
       "\\begin{tabular}{r|llll}\n",
       "  & Sales & Price & Advertising & Region\\\\\n",
       "\\hline\n",
       "\t150 &  4.67 & 111   &  0    & 0    \\\\\n",
       "\t68 & 12.01 &  94   &  0    & 1    \\\\\n",
       "\t273 &  9.40 &  96   & 17    & 0    \\\\\n",
       "\t43 &  5.05 & 117   &  0    & 1    \\\\\n",
       "\t5 &  6.42 & 126   &  5    & 1    \\\\\n",
       "\t218 &  8.47 & 112   &  0    & 0    \\\\\n",
       "\t159 & 10.43 &  24   &  0    & 1    \\\\\n",
       "\t74 & 11.62 & 139   &  4    & 1    \\\\\n",
       "\t209 &  6.98 &  97   &  0    & 0    \\\\\n",
       "\t96 &  7.78 & 116   &  3    & 1    \\\\\n",
       "\t244 &  7.78 &  64   &  0    & 1    \\\\\n",
       "\t53 &  6.67 & 173   & 13    & 1    \\\\\n",
       "\t197 &  6.97 & 129   & 19    & 0    \\\\\n",
       "\t40 &  7.70 &  89   & 12    & 0    \\\\\n",
       "\t6 &  5.61 & 154   &  9    & 0    \\\\\n",
       "\t200 &  1.42 & 108   & 18    & 1    \\\\\n",
       "\t213 & 14.90 &  82   &  0    & 0    \\\\\n",
       "\t98 &  8.77 & 117   & 11    & 1    \\\\\n",
       "\t149 &  6.89 & 110   & 10    & 0    \\\\\n",
       "\t211 & 13.14 & 105   & 10    & 1    \\\\\n",
       "\t277 &  3.89 & 118   &  0    & 1    \\\\\n",
       "\t85 &  3.90 & 131   &  0    & 1    \\\\\n",
       "\t129 &  5.87 & 109   &  0    & 1    \\\\\n",
       "\t171 &  9.31 & 106   &  9    & 1    \\\\\n",
       "\t78 &  7.91 & 129   &  3    & 1    \\\\\n",
       "\t28 &  3.91 &  98   &  0    & 1    \\\\\n",
       "\t258 &  6.88 & 112   &  0    & 0    \\\\\n",
       "\t112 &  7.36 & 133   &  0    & 1    \\\\\n",
       "\t26 &  5.17 & 120   &  0    & 0    \\\\\n",
       "\t9 &  4.97 & 160   &  0    & 1    \\\\\n",
       "\t... & ... & ... & ... & ...\\\\\n",
       "\t54 &  5.08 & 138   &  6    & 1    \\\\\n",
       "\t195 &  8.77 & 128   & 13    & 1    \\\\\n",
       "\t145 &  4.16 &  95   &  6    & 1    \\\\\n",
       "\t242 &  7.23 & 128   & 18    & 1    \\\\\n",
       "\t29 &  4.90 & 144   & 13    & 0    \\\\\n",
       "\t220 &  8.71 & 144   &  5    & 0    \\\\\n",
       "\t266 &  9.62 & 135   &  8    & 1    \\\\\n",
       "\t237 &  3.47 &  81   &  0    & 0    \\\\\n",
       "\t16 &  5.68 & 106   &  0    & 0    \\\\\n",
       "\t124 &  9.01 & 115   & 14    & 1    \\\\\n",
       "\t184 &  6.50 &  94   &  3    & 1    \\\\\n",
       "\t31 &  6.71 & 137   & 17    & 1    \\\\\n",
       "\t91 & 10.71 &  79   & 10    & 0    \\\\\n",
       "\t182 &  6.14 & 120   &  3    & 0    \\\\\n",
       "\t256 &  5.83 & 112   &  7    & 0    \\\\\n",
       "\t142 &  9.14 &  90   &  0    & 1    \\\\\n",
       "\t30 &  0.91 & 117   &  0    & 1    \\\\\n",
       "\t114 &  7.40 &  97   &  4    & 1    \\\\\n",
       "\t62 &  4.83 & 107   &  3    & 1    \\\\\n",
       "\t264 &  9.46 &  99   & 15    & 1    \\\\\n",
       "\t111 &  7.32 & 107   &  0    & 0    \\\\\n",
       "\t146 & 11.91 &  84   &  0    & 1    \\\\\n",
       "\t177 &  8.19 & 155   &  0    & 0    \\\\\n",
       "\t164 &  4.74 & 140   &  4    & 1    \\\\\n",
       "\t92 &  7.95 & 119   &  3    & 0    \\\\\n",
       "\t245 &  6.03 & 129   & 10    & 1    \\\\\n",
       "\t271 & 11.27 & 133   &  2    & 1    \\\\\n",
       "\t216 &  2.93 & 160   &  5    & 0    \\\\\n",
       "\t89 & 12.11 & 104   & 18    & 0    \\\\\n",
       "\t247 & 10.31 & 121   &  0    & 1    \\\\\n",
       "\\end{tabular}\n"
      ],
      "text/markdown": [
       "\n",
       "| <!--/--> | Sales | Price | Advertising | Region |\n",
       "|---|---|---|---|---|\n",
       "| 150 |  4.67 | 111   |  0    | 0     |\n",
       "| 68 | 12.01 |  94   |  0    | 1     |\n",
       "| 273 |  9.40 |  96   | 17    | 0     |\n",
       "| 43 |  5.05 | 117   |  0    | 1     |\n",
       "| 5 |  6.42 | 126   |  5    | 1     |\n",
       "| 218 |  8.47 | 112   |  0    | 0     |\n",
       "| 159 | 10.43 |  24   |  0    | 1     |\n",
       "| 74 | 11.62 | 139   |  4    | 1     |\n",
       "| 209 |  6.98 |  97   |  0    | 0     |\n",
       "| 96 |  7.78 | 116   |  3    | 1     |\n",
       "| 244 |  7.78 |  64   |  0    | 1     |\n",
       "| 53 |  6.67 | 173   | 13    | 1     |\n",
       "| 197 |  6.97 | 129   | 19    | 0     |\n",
       "| 40 |  7.70 |  89   | 12    | 0     |\n",
       "| 6 |  5.61 | 154   |  9    | 0     |\n",
       "| 200 |  1.42 | 108   | 18    | 1     |\n",
       "| 213 | 14.90 |  82   |  0    | 0     |\n",
       "| 98 |  8.77 | 117   | 11    | 1     |\n",
       "| 149 |  6.89 | 110   | 10    | 0     |\n",
       "| 211 | 13.14 | 105   | 10    | 1     |\n",
       "| 277 |  3.89 | 118   |  0    | 1     |\n",
       "| 85 |  3.90 | 131   |  0    | 1     |\n",
       "| 129 |  5.87 | 109   |  0    | 1     |\n",
       "| 171 |  9.31 | 106   |  9    | 1     |\n",
       "| 78 |  7.91 | 129   |  3    | 1     |\n",
       "| 28 |  3.91 |  98   |  0    | 1     |\n",
       "| 258 |  6.88 | 112   |  0    | 0     |\n",
       "| 112 |  7.36 | 133   |  0    | 1     |\n",
       "| 26 |  5.17 | 120   |  0    | 0     |\n",
       "| 9 |  4.97 | 160   |  0    | 1     |\n",
       "| ... | ... | ... | ... | ... |\n",
       "| 54 |  5.08 | 138   |  6    | 1     |\n",
       "| 195 |  8.77 | 128   | 13    | 1     |\n",
       "| 145 |  4.16 |  95   |  6    | 1     |\n",
       "| 242 |  7.23 | 128   | 18    | 1     |\n",
       "| 29 |  4.90 | 144   | 13    | 0     |\n",
       "| 220 |  8.71 | 144   |  5    | 0     |\n",
       "| 266 |  9.62 | 135   |  8    | 1     |\n",
       "| 237 |  3.47 |  81   |  0    | 0     |\n",
       "| 16 |  5.68 | 106   |  0    | 0     |\n",
       "| 124 |  9.01 | 115   | 14    | 1     |\n",
       "| 184 |  6.50 |  94   |  3    | 1     |\n",
       "| 31 |  6.71 | 137   | 17    | 1     |\n",
       "| 91 | 10.71 |  79   | 10    | 0     |\n",
       "| 182 |  6.14 | 120   |  3    | 0     |\n",
       "| 256 |  5.83 | 112   |  7    | 0     |\n",
       "| 142 |  9.14 |  90   |  0    | 1     |\n",
       "| 30 |  0.91 | 117   |  0    | 1     |\n",
       "| 114 |  7.40 |  97   |  4    | 1     |\n",
       "| 62 |  4.83 | 107   |  3    | 1     |\n",
       "| 264 |  9.46 |  99   | 15    | 1     |\n",
       "| 111 |  7.32 | 107   |  0    | 0     |\n",
       "| 146 | 11.91 |  84   |  0    | 1     |\n",
       "| 177 |  8.19 | 155   |  0    | 0     |\n",
       "| 164 |  4.74 | 140   |  4    | 1     |\n",
       "| 92 |  7.95 | 119   |  3    | 0     |\n",
       "| 245 |  6.03 | 129   | 10    | 1     |\n",
       "| 271 | 11.27 | 133   |  2    | 1     |\n",
       "| 216 |  2.93 | 160   |  5    | 0     |\n",
       "| 89 | 12.11 | 104   | 18    | 0     |\n",
       "| 247 | 10.31 | 121   |  0    | 1     |\n",
       "\n"
      ],
      "text/plain": [
       "    Sales Price Advertising Region\n",
       "150  4.67 111    0          0     \n",
       "68  12.01  94    0          1     \n",
       "273  9.40  96   17          0     \n",
       "43   5.05 117    0          1     \n",
       "5    6.42 126    5          1     \n",
       "218  8.47 112    0          0     \n",
       "159 10.43  24    0          1     \n",
       "74  11.62 139    4          1     \n",
       "209  6.98  97    0          0     \n",
       "96   7.78 116    3          1     \n",
       "244  7.78  64    0          1     \n",
       "53   6.67 173   13          1     \n",
       "197  6.97 129   19          0     \n",
       "40   7.70  89   12          0     \n",
       "6    5.61 154    9          0     \n",
       "200  1.42 108   18          1     \n",
       "213 14.90  82    0          0     \n",
       "98   8.77 117   11          1     \n",
       "149  6.89 110   10          0     \n",
       "211 13.14 105   10          1     \n",
       "277  3.89 118    0          1     \n",
       "85   3.90 131    0          1     \n",
       "129  5.87 109    0          1     \n",
       "171  9.31 106    9          1     \n",
       "78   7.91 129    3          1     \n",
       "28   3.91  98    0          1     \n",
       "258  6.88 112    0          0     \n",
       "112  7.36 133    0          1     \n",
       "26   5.17 120    0          0     \n",
       "9    4.97 160    0          1     \n",
       "... ...   ...   ...         ...   \n",
       "54   5.08 138    6          1     \n",
       "195  8.77 128   13          1     \n",
       "145  4.16  95    6          1     \n",
       "242  7.23 128   18          1     \n",
       "29   4.90 144   13          0     \n",
       "220  8.71 144    5          0     \n",
       "266  9.62 135    8          1     \n",
       "237  3.47  81    0          0     \n",
       "16   5.68 106    0          0     \n",
       "124  9.01 115   14          1     \n",
       "184  6.50  94    3          1     \n",
       "31   6.71 137   17          1     \n",
       "91  10.71  79   10          0     \n",
       "182  6.14 120    3          0     \n",
       "256  5.83 112    7          0     \n",
       "142  9.14  90    0          1     \n",
       "30   0.91 117    0          1     \n",
       "114  7.40  97    4          1     \n",
       "62   4.83 107    3          1     \n",
       "264  9.46  99   15          1     \n",
       "111  7.32 107    0          0     \n",
       "146 11.91  84    0          1     \n",
       "177  8.19 155    0          0     \n",
       "164  4.74 140    4          1     \n",
       "92   7.95 119    3          0     \n",
       "245  6.03 129   10          1     \n",
       "271 11.27 133    2          1     \n",
       "216  2.93 160    5          0     \n",
       "89  12.11 104   18          0     \n",
       "247 10.31 121    0          1     "
      ]
     },
     "metadata": {},
     "output_type": "display_data"
    }
   ],
   "source": [
    "source(\"charger.R\")\n",
    "mondata <- charger(2105482)\n",
    "mondata"
   ]
  },
  {
   "cell_type": "markdown",
   "id": "65dc2132",
   "metadata": {},
   "source": [
    "Phase 1:\n",
    "\n",
    "a)"
   ]
  },
  {
   "cell_type": "code",
   "execution_count": 2,
   "id": "53fbaa3b",
   "metadata": {},
   "outputs": [
    {
     "data": {
      "image/png": "[encoded data removed]",
      "text/plain": [
       "Plot with title \"Histogramme des ventes\""
      ]
     },
     "metadata": {},
     "output_type": "display_data"
    }
   ],
   "source": [
    "hist(mondata$Sales,col=\"green\",main=\"Histogramme des ventes\", \n",
    "     border=\"red\", xlab=\"Sales\",ylab=\"Effectif\")"
   ]
  },
  {
   "cell_type": "code",
   "execution_count": 3,
   "id": "fbab24f4",
   "metadata": {},
   "outputs": [
    {
     "data": {
      "image/png": "[encoded data removed]",
      "text/plain": [
       "plot without title"
      ]
     },
     "metadata": {},
     "output_type": "display_data"
    }
   ],
   "source": [
    "boxplot(mondata$Sales,horizontal=T,col=\"grey\",xlab=\"Sales\")"
   ]
  },
  {
   "cell_type": "markdown",
   "id": "1aa2ea41",
   "metadata": {},
   "source": [
    "On observe ici que l’effectif des vente atteint sa plus grande fréquence entre 7 et 8 milles sièges vendus. L’histogramme de ce dernier est plus ou moins semblable à l’allure d’une loi normale.\n",
    "\n",
    "On voit sur le diagramme de Tukey que la distribution de données est relativement symétrique par rapport à la valeur médiane (environ 5.5 milles sièges). On remarque aussi l’existence d'une valeur extrême (environ 15 milles sièges) vers la droite."
   ]
  },
  {
   "cell_type": "code",
   "execution_count": 4,
   "id": "c9468f22",
   "metadata": {},
   "outputs": [
    {
     "data": {
      "image/png": "[encoded data removed]",
      "text/plain": [
       "Plot with title \"Normal Q-Q Plot\""
      ]
     },
     "metadata": {},
     "output_type": "display_data"
    }
   ],
   "source": [
    "qqnorm(mondata$Sales,col=\"blue\")\n",
    "qqline(mondata$Sales,col=\"red\")"
   ]
  },
  {
   "cell_type": "code",
   "execution_count": 5,
   "id": "fbf8b2e1",
   "metadata": {},
   "outputs": [
    {
     "data": {
      "text/plain": [
       "\n",
       "\tShapiro-Wilk normality test\n",
       "\n",
       "data:  mondata$Sales\n",
       "W = 0.99463, p-value = 0.7128\n"
      ]
     },
     "metadata": {},
     "output_type": "display_data"
    }
   ],
   "source": [
    "shapiro.test(mondata$Sales)"
   ]
  },
  {
   "cell_type": "markdown",
   "id": "f94c5ea3",
   "metadata": {},
   "source": [
    "D'après la droite de Henry et le test de normalité (Shapiro-Wilk), on déduit que la variable Y suit une loi normale.\n",
    "\n",
    "Premièrement, on remarque que plus on se rapproche du milieu, plus les points ont tendance à être alignés et donc, construire une droite et vers les bornes, on remarque une symétrie dans le dispersement des valeurs. \n",
    "\n",
    "Deuxièmement, on a la valeur observée de W est grande (W = 0.99463) et p-value = 0.7128 grande (supérieure a 0.05), alors on accepte H0 qui est l'hypothèse que Y suit une loi normale"
   ]
  },
  {
   "cell_type": "code",
   "execution_count": 6,
   "id": "29db9966",
   "metadata": {},
   "outputs": [],
   "source": [
    "statistiques = data.frame(data=c(\"Sales\"), \n",
    "                     moyenne=NA, s=NA, q1=NA, mediane=NA,\n",
    "                     q3=NA, interval=NA)"
   ]
  },
  {
   "cell_type": "code",
   "execution_count": 7,
   "id": "e91d34b5",
   "metadata": {},
   "outputs": [
    {
     "data": {
      "text/html": [
       "<table>\n",
       "<thead><tr><th scope=col>data</th><th scope=col>moyenne</th><th scope=col>s</th><th scope=col>q1</th><th scope=col>mediane</th><th scope=col>q3</th><th scope=col>interval</th></tr></thead>\n",
       "<tbody>\n",
       "\t<tr><td>Sales               </td><td>7.302               </td><td>2.826               </td><td>5.14                </td><td>7.37                </td><td>8.88                </td><td>[6.902551, 7.700833]</td></tr>\n",
       "</tbody>\n",
       "</table>\n"
      ],
      "text/latex": [
       "\\begin{tabular}{r|lllllll}\n",
       " data & moyenne & s & q1 & mediane & q3 & interval\\\\\n",
       "\\hline\n",
       "\t Sales                    & 7.302                    & 2.826                    & 5.14                     & 7.37                     & 8.88                     & {[}6.902551, 7.700833{]}\\\\\n",
       "\\end{tabular}\n"
      ],
      "text/markdown": [
       "\n",
       "| data | moyenne | s | q1 | mediane | q3 | interval |\n",
       "|---|---|---|---|---|---|---|\n",
       "| Sales                | 7.302                | 2.826                | 5.14                 | 7.37                 | 8.88                 | [6.902551, 7.700833] |\n",
       "\n"
      ],
      "text/plain": [
       "  data  moyenne s     q1   mediane q3   interval            \n",
       "1 Sales 7.302   2.826 5.14 7.37    8.88 [6.902551, 7.700833]"
      ]
     },
     "metadata": {},
     "output_type": "display_data"
    }
   ],
   "source": [
    "# moyenne\n",
    "statistiques$moyenne = mean(mondata$Sales)\n",
    "\n",
    "# écart-type\n",
    "statistiques$s = sd(mondata$Sales)\n",
    "\n",
    "# quantiles q1 et q3\n",
    "statistiques[1, c(\"q1\", \"q3\")] = quantile(mondata$Sales, probs = c(0.25,0.75))\n",
    "\n",
    "#mediane\n",
    "statistiques$mediane = median(mondata$Sales)\n",
    "\n",
    "# interval de confiance pour la moyenne\n",
    "ci <- t.test(mondata$Sales, conf.level = 0.95)$conf.int\n",
    "statistiques$interval = sprintf(\"[%f, %f]\", ci[1], ci[2])\n",
    "\n",
    "options(digits=4) \n",
    "\n",
    "statistiques"
   ]
  },
  {
   "cell_type": "markdown",
   "id": "738b0124",
   "metadata": {},
   "source": [
    "b)"
   ]
  },
  {
   "cell_type": "code",
   "execution_count": 8,
   "id": "ada18919",
   "metadata": {},
   "outputs": [
    {
     "data": {
      "image/png": "[encoded data removed]",
      "text/plain": [
       "Plot with title \"Region 1\""
      ]
     },
     "metadata": {},
     "output_type": "display_data"
    }
   ],
   "source": [
    "layout(matrix(1:2,1,2))\n",
    "hist(mondata$Sales[mondata$Region==\"0\"], col=\"yellow\",border=\"cyan\", \n",
    "     main=paste(\"Region 0\"),xlab=\"Ventes\",ylab=\"Fréquences\")\n",
    "hist(mondata$Sales[mondata$Region==\"1\"], col=\"green\",border=\"red\", \n",
    "     main=paste(\"Region 1\"),xlab=\"Ventes\",ylab=\"Fréquences\")"
   ]
  },
  {
   "cell_type": "code",
   "execution_count": 9,
   "id": "a082eba9",
   "metadata": {},
   "outputs": [
    {
     "data": {
      "image/png": "[encoded data removed]",
      "text/plain": [
       "plot without title"
      ]
     },
     "metadata": {},
     "output_type": "display_data"
    }
   ],
   "source": [
    "boxplot(Sales~Region, data=mondata)"
   ]
  },
  {
   "cell_type": "code",
   "execution_count": 10,
   "id": "70af3f5f",
   "metadata": {},
   "outputs": [],
   "source": [
    "statistiques = data.frame(ventes=c(\"Region 0\", \"Region 1\"), \n",
    "                     moyenne=NA, s=NA, q1=NA, mediane=NA,\n",
    "                     q3=NA, interval=NA)"
   ]
  },
  {
   "cell_type": "code",
   "execution_count": 11,
   "id": "10107ed9",
   "metadata": {},
   "outputs": [
    {
     "data": {
      "text/html": [
       "<table>\n",
       "<thead><tr><th scope=col>ventes</th><th scope=col>moyenne</th><th scope=col>s</th><th scope=col>q1</th><th scope=col>mediane</th><th scope=col>q3</th><th scope=col>interval</th></tr></thead>\n",
       "<tbody>\n",
       "\t<tr><td>Region 0            </td><td>7.474               </td><td>2.926               </td><td>5.345               </td><td>7.380               </td><td>9.095               </td><td>[6.800852, 8.147148]</td></tr>\n",
       "\t<tr><td>Region 1            </td><td>7.194               </td><td>2.769               </td><td>4.955               </td><td>7.365               </td><td>8.852               </td><td>[6.693506, 7.694494]</td></tr>\n",
       "</tbody>\n",
       "</table>\n"
      ],
      "text/latex": [
       "\\begin{tabular}{r|lllllll}\n",
       " ventes & moyenne & s & q1 & mediane & q3 & interval\\\\\n",
       "\\hline\n",
       "\t Region 0                 & 7.474                    & 2.926                    & 5.345                    & 7.380                    & 9.095                    & {[}6.800852, 8.147148{]}\\\\\n",
       "\t Region 1                 & 7.194                    & 2.769                    & 4.955                    & 7.365                    & 8.852                    & {[}6.693506, 7.694494{]}\\\\\n",
       "\\end{tabular}\n"
      ],
      "text/markdown": [
       "\n",
       "| ventes | moyenne | s | q1 | mediane | q3 | interval |\n",
       "|---|---|---|---|---|---|---|\n",
       "| Region 0             | 7.474                | 2.926                | 5.345                | 7.380                | 9.095                | [6.800852, 8.147148] |\n",
       "| Region 1             | 7.194                | 2.769                | 4.955                | 7.365                | 8.852                | [6.693506, 7.694494] |\n",
       "\n"
      ],
      "text/plain": [
       "  ventes   moyenne s     q1    mediane q3    interval            \n",
       "1 Region 0 7.474   2.926 5.345 7.380   9.095 [6.800852, 8.147148]\n",
       "2 Region 1 7.194   2.769 4.955 7.365   8.852 [6.693506, 7.694494]"
      ]
     },
     "metadata": {},
     "output_type": "display_data"
    }
   ],
   "source": [
    "#moyenne\n",
    "statistiques$moyenne = sapply(0:1, function(i) mean(mondata$Sales[mondata$Region==i]))\n",
    "\n",
    "# écart-type\n",
    "statistiques$s = sapply(0:1, function(i) sd(mondata$Sales[mondata$Region==i]))\n",
    "\n",
    "# mediane\n",
    "statistiques$mediane = sapply(0:1, function(i) median(mondata$Sales[mondata$Region==i]))\n",
    "\n",
    "# quantiles q1 et q3\n",
    "statistiques[1, c(\"q1\", \"q3\")] = quantile(mondata$Sales[mondata$Region==\"0\"], probs = c(0.25,0.75))\n",
    "statistiques[2, c(\"q1\", \"q3\")] = quantile(mondata$Sales[mondata$Region==\"1\"], probs = c(0.25,0.75))\n",
    "                              \n",
    "# interval de confiance\n",
    "ci0 <- t.test(mondata$Sales[mondata$Region==\"0\"], conf.level = 0.95)$conf.int\n",
    "statistiques[1, c(\"interval\")] = sprintf(\"[%f, %f]\", ci0[1], ci0[2])\n",
    "                              \n",
    "ci1 <- t.test(mondata$Sales[mondata$Region==\"1\"], conf.level = 0.95)$conf.int\n",
    "statistiques[2, c(\"interval\")] = sprintf(\"[%f, %f]\", ci1[1], ci1[2])\n",
    "\n",
    "options(digits=4) # Pour limiter le nombre de décimales et \n",
    "\n",
    "statistiques"
   ]
  },
  {
   "cell_type": "markdown",
   "id": "751d5e90",
   "metadata": {},
   "source": [
    "-->Test d’hypothèses sur l’égalité des variances pour les deux groupes"
   ]
  },
  {
   "cell_type": "code",
   "execution_count": 14,
   "id": "94d36a31",
   "metadata": {},
   "outputs": [
    {
     "data": {
      "text/plain": [
       "\n",
       "\tF test to compare two variances\n",
       "\n",
       "data:  rural and urbain\n",
       "F = 1.1, num df = 74, denom df = 119, p-value = 0.6\n",
       "alternative hypothesis: true ratio of variances is not equal to 1\n",
       "95 percent confidence interval:\n",
       " 0.7462 1.7045\n",
       "sample estimates:\n",
       "ratio of variances \n",
       "             1.117 \n"
      ]
     },
     "metadata": {},
     "output_type": "display_data"
    }
   ],
   "source": [
    "rural <- subset(mondata, Region==0)$Sales\n",
    "urbain <- subset(mondata, Region==1)$Sales\n",
    "var.test(rural, urbain)"
   ]
  },
  {
   "cell_type": "markdown",
   "id": "aaa3c3eb",
   "metadata": {},
   "source": [
    "Dans ce test, on a les hypothèses: \n",
    "\n",
    "H0: V1 = V2 vs H1: V1 != V2 (nb: '!=' signifie \"non égale a\").\n",
    "\n",
    "Ici V1 est la variance pour le 1er groupe (Region==0) et V2 est la variance pour le 2eme groupe (Region==1)\n",
    "\n",
    "On remarque que p-value = 0.6 est supérieure au seuil critique (0.05), alors on ne rejette pas l'hypothèse H0"
   ]
  },
  {
   "cell_type": "markdown",
   "id": "1c47f993",
   "metadata": {},
   "source": [
    "-->Test d’hypothèses sur l’égalité des moyennes pour les deux groupes"
   ]
  },
  {
   "cell_type": "code",
   "execution_count": 15,
   "id": "3ab14fd6",
   "metadata": {},
   "outputs": [
    {
     "data": {
      "text/plain": [
       "\n",
       "\tWelch Two Sample t-test\n",
       "\n",
       "data:  rural and urbain\n",
       "t = 0.66, df = 151, p-value = 0.5\n",
       "alternative hypothesis: true difference in means is not equal to 0\n",
       "95 percent confidence interval:\n",
       " -0.5537  1.1137\n",
       "sample estimates:\n",
       "mean of x mean of y \n",
       "    7.474     7.194 \n"
      ]
     },
     "metadata": {},
     "output_type": "display_data"
    }
   ],
   "source": [
    "rural <- subset(mondata, Region==0)$Sales\n",
    "urbain <- subset(mondata, Region==1)$Sales\n",
    "t.test(rural, urbain)"
   ]
  },
  {
   "cell_type": "markdown",
   "id": "09350972",
   "metadata": {},
   "source": [
    "Dans ce test, on a les hypothèses:\n",
    "\n",
    "H0: u1 = u2 vs H1: u1 != u2 (nb: '!=' signifie \"non égale a\")\n",
    "\n",
    "ici u1 est la moyenne pour le 1er groupe (Region==0) et u2 est la moyenne pour le 2eme groupe (Region==1)\n",
    "\n",
    "On remarque que p-value = 0.5 est supérieure au seuil critique (0.05), alors on ne rejette pas l'hypothèse H0"
   ]
  }
 ],
 "metadata": {
  "kernelspec": {
   "display_name": "R",
   "language": "R",
   "name": "ir"
  },
  "language_info": {
   "codemirror_mode": "r",
   "file_extension": ".r",
   "mimetype": "text/x-r-source",
   "name": "R",
   "pygments_lexer": "r",
   "version": "3.6.1"
  }
 },
 "nbformat": 4,
 "nbformat_minor": 5
}
