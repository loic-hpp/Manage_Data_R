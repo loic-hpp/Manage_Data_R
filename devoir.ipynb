{
 "cells": [
  {
   "attachments": {},
   "cell_type": "markdown",
   "metadata": {},
   "source": [
    "# Réalisation d'une analyse statistique avec le langage R\n",
    "Dans un premier temps, nous allons récupérer les données dans le CSV"
   ]
  },
  {
   "cell_type": "code",
   "execution_count": 2,
   "metadata": {
    "vscode": {
     "languageId": "r"
    }
   },
   "outputs": [],
   "source": [
    "# Charger les données\n",
    "source(\"charger.R\")\n",
    "mondata <- charger(2105482)"
   ]
  },
  {
   "cell_type": "code",
   "execution_count": null,
   "metadata": {
    "vscode": {
     "languageId": "r"
    }
   },
   "outputs": [],
   "source": [
    "# Afficher les données\n",
    "mondata"
   ]
  },
  {
   "attachments": {},
   "cell_type": "markdown",
   "metadata": {},
   "source": [
    "# Histogramme des ventes"
   ]
  },
  {
   "cell_type": "code",
   "execution_count": 16,
   "metadata": {
    "vscode": {
     "languageId": "r"
    }
   },
   "outputs": [
    {
     "data": {
      "image/png": "[encoded data removed]",
      "text/plain": [
       "Plot with title \"Histogramme des ventes\""
      ]
     },
     "metadata": {
      "image/png": {
       "height": 420,
       "width": 420
      }
     },
     "output_type": "display_data"
    }
   ],
   "source": [
    "hist(mondata$Sales, col=\"gold\",border=\"red\", main=paste(\"Histogramme des ventes\"),\n",
    "     xlab=\"Ventes\",ylab=\"Fréquences\")"
   ]
  },
  {
   "attachments": {},
   "cell_type": "markdown",
   "metadata": {},
   "source": [
    "# Diagramme de Tukey pour les ventes"
   ]
  },
  {
   "cell_type": "code",
   "execution_count": null,
   "metadata": {
    "vscode": {
     "languageId": "r"
    }
   },
   "outputs": [],
   "source": [
    "boxplot(mondata$Sales,\n",
    "horizontal=TRUE,\n",
    "col=\"gold\",border=\"red\",\n",
    "xlab=\"Nombre de vente\")"
   ]
  },
  {
   "attachments": {},
   "cell_type": "markdown",
   "metadata": {},
   "source": [
    "# Droite de Henry"
   ]
  },
  {
   "cell_type": "code",
   "execution_count": 64,
   "metadata": {
    "vscode": {
     "languageId": "r"
    }
   },
   "outputs": [
    {
     "ename": "ERROR",
     "evalue": "Error in henryplot(mondata$Sales, x = \"x\", fill = \"blue\", alpha = 0.5, : impossible de trouver la fonction \"henryplot\"\n",
     "output_type": "error",
     "traceback": [
      "Error in henryplot(mondata$Sales, x = \"x\", fill = \"blue\", alpha = 0.5, : impossible de trouver la fonction \"henryplot\"\nTraceback:\n"
     ]
    }
   ],
   "source": [
    "henryplot(mondata$Sales, x = \"x\", fill = \"blue\", alpha = 0.5, scale = 1)"
   ]
  },
  {
   "attachments": {},
   "cell_type": "markdown",
   "metadata": {},
   "source": [
    "# Test de normalité (Shapiro-Wilk)"
   ]
  },
  {
   "cell_type": "code",
   "execution_count": 63,
   "metadata": {
    "vscode": {
     "languageId": "r"
    }
   },
   "outputs": [
    {
     "data": {
      "text/plain": [
       "\n",
       "\tShapiro-Wilk normality test\n",
       "\n",
       "data:  mondata$Sales\n",
       "W = 0.99463, p-value = 0.7128\n"
      ]
     },
     "metadata": {},
     "output_type": "display_data"
    }
   ],
   "source": [
    "shapiro.test(mondata$Sales)"
   ]
  },
  {
   "attachments": {},
   "cell_type": "markdown",
   "metadata": {},
   "source": [
    "# Interprétation du test de normalité (Shapiro-Wilk)\n"
   ]
  },
  {
   "attachments": {},
   "cell_type": "markdown",
   "metadata": {},
   "source": [
    "# Tableau de statistique descriptive"
   ]
  },
  {
   "cell_type": "code",
   "execution_count": 62,
   "metadata": {
    "vscode": {
     "languageId": "r"
    }
   },
   "outputs": [
    {
     "data": {
      "text/html": [
       "<table class=\"dataframe\">\n",
       "<caption>A data.frame: 1 × 7</caption>\n",
       "<thead>\n",
       "\t<tr><th scope=col>mondata</th><th scope=col>moyenne</th><th scope=col>écartType</th><th scope=col>q1</th><th scope=col>mediane</th><th scope=col>q3</th><th scope=col>IntervalConfiance</th></tr>\n",
       "\t<tr><th scope=col>&lt;chr&gt;</th><th scope=col>&lt;dbl&gt;</th><th scope=col>&lt;dbl&gt;</th><th scope=col>&lt;dbl&gt;</th><th scope=col>&lt;dbl&gt;</th><th scope=col>&lt;dbl&gt;</th><th scope=col>&lt;chr&gt;</th></tr>\n",
       "</thead>\n",
       "<tbody>\n",
       "\t<tr><td>Sales</td><td>7.301692</td><td>2.826037</td><td>5.14</td><td>7.37</td><td>8.88</td><td>[6.902551, 7.700833]</td></tr>\n",
       "</tbody>\n",
       "</table>\n"
      ],
      "text/latex": [
       "A data.frame: 1 × 7\n",
       "\\begin{tabular}{lllllll}\n",
       " mondata & moyenne & écartType & q1 & mediane & q3 & IntervalConfiance\\\\\n",
       " <chr> & <dbl> & <dbl> & <dbl> & <dbl> & <dbl> & <chr>\\\\\n",
       "\\hline\n",
       "\t Sales & 7.301692 & 2.826037 & 5.14 & 7.37 & 8.88 & {[}6.902551, 7.700833{]}\\\\\n",
       "\\end{tabular}\n"
      ],
      "text/markdown": [
       "\n",
       "A data.frame: 1 × 7\n",
       "\n",
       "| mondata &lt;chr&gt; | moyenne &lt;dbl&gt; | écartType &lt;dbl&gt; | q1 &lt;dbl&gt; | mediane &lt;dbl&gt; | q3 &lt;dbl&gt; | IntervalConfiance &lt;chr&gt; |\n",
       "|---|---|---|---|---|---|---|\n",
       "| Sales | 7.301692 | 2.826037 | 5.14 | 7.37 | 8.88 | [6.902551, 7.700833] |\n",
       "\n"
      ],
      "text/plain": [
       "  mondata moyenne  écartType q1   mediane q3   IntervalConfiance   \n",
       "1 Sales   7.301692 2.826037  5.14 7.37    8.88 [6.902551, 7.700833]"
      ]
     },
     "metadata": {},
     "output_type": "display_data"
    }
   ],
   "source": [
    "mesureStatistique = data.frame(mondata=c(\"Sales\"), \n",
    "                     moyenne=NA, écartType=NA, q1=NA, mediane=NA,\n",
    "                     q3=NA, IntervalConfiance=NA)\n",
    "# moyenne,\n",
    "mesureStatistique$moyenne = sapply(2, function(i) mean(mondata$Sales)) \n",
    "# quartiles q1, q2 = mediane, q3 \n",
    "mesureStatistique[1, c(\"q1\", \"mediane\", \"q3\")] = quantile(mondata$Sales, probs = c(0.25,0.5,0.75))\n",
    "# écart type,\n",
    "mesureStatistique$écartType = sapply(2, function(i) sd(mondata$Sales)) \n",
    "# intervalle de confiance pour la moyenne\n",
    "ci <- t.test(mondata$Sales, conf.level = 0.95)$conf.int\n",
    "# cat(\"95% Confidence Interval: [\", ci[1], \", \", ci[2], \"]\\n\")\n",
    "mesureStatistique$IntervalConfiance = sprintf(\"[%f, %f]\", ci[1], ci[2])\n",
    "\n",
    "# Afficher le resultat\n",
    "mesureStatistique"
   ]
  }
 ],
 "metadata": {
  "kernelspec": {
   "display_name": "R",
   "language": "R",
   "name": "ir"
  },
  "language_info": {
   "codemirror_mode": "r",
   "file_extension": ".r",
   "mimetype": "text/x-r-source",
   "name": "R",
   "pygments_lexer": "r",
   "version": "4.2.2"
  },
  "orig_nbformat": 4
 },
 "nbformat": 4,
 "nbformat_minor": 2
}
