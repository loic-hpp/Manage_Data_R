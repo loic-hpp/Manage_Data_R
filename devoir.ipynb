{
 "cells": [
  {
   "cell_type": "markdown",
   "metadata": {},
   "source": [
    "# Réalisation d'une analyse statistique avec le langage R\n",
    "Dans un premier temps, nous allons récupérer les données dans le CSV"
   ]
  },
  {
   "cell_type": "code",
   "execution_count": null,
   "metadata": {
    "vscode": {
     "languageId": "r"
    }
   },
   "outputs": [],
   "source": [
    "# Charger les données\n",
    "source(\"charger.R\")\n",
    "mondata <- charger(2105482)\n",
    "Y <- mondata$Sales\n",
    "X1 <- mondata$Price\n",
    "X2 <- mondata$Advertising\n",
    "X3 <- mondata$Region"
   ]
  },
  {
   "cell_type": "code",
   "execution_count": null,
   "metadata": {
    "vscode": {
     "languageId": "r"
    }
   },
   "outputs": [],
   "source": [
    "# Afficher les données\n",
    "mondata"
   ]
  },
  {
   "cell_type": "markdown",
   "metadata": {},
   "source": [
    "# Histogramme des ventes"
   ]
  },
  {
   "cell_type": "code",
   "execution_count": null,
   "metadata": {
    "vscode": {
     "languageId": "r"
    }
   },
   "outputs": [],
   "source": [
    "hist(Y, col=\"gold\",border=\"red\", main=paste(\"Histogramme des ventes\"),\n",
    "     xlab=\"Ventes\",ylab=\"Fréquences\")"
   ]
  },
  {
   "cell_type": "markdown",
   "metadata": {},
   "source": [
    "# Diagramme de Tukey pour les ventes"
   ]
  },
  {
   "cell_type": "code",
   "execution_count": null,
   "metadata": {
    "vscode": {
     "languageId": "r"
    }
   },
   "outputs": [],
   "source": [
    "boxplot(Y,\n",
    "horizontal=TRUE,\n",
    "col=\"gold\",border=\"red\",\n",
    "xlab=\"Nombre de vente\")"
   ]
  },
  {
   "cell_type": "markdown",
   "metadata": {},
   "source": [
    "# Droite de Henry"
   ]
  },
  {
   "cell_type": "code",
   "execution_count": null,
   "metadata": {
    "vscode": {
     "languageId": "r"
    }
   },
   "outputs": [],
   "source": [
    "qqnorm(Y, col =\"gold\", main=paste(\"Droite de Henry\"))\n",
    "qqline(Y, col =\"red\")\n"
   ]
  },
  {
   "cell_type": "markdown",
   "metadata": {},
   "source": [
    "# Test de normalité (Shapiro-Wilk)"
   ]
  },
  {
   "cell_type": "code",
   "execution_count": null,
   "metadata": {
    "vscode": {
     "languageId": "r"
    }
   },
   "outputs": [],
   "source": [
    "shapiro.test(Y)"
   ]
  },
  {
   "cell_type": "markdown",
   "metadata": {},
   "source": [
    "# Interprétation du test de normalité (Shapiro-Wilk)\n",
    "La statistique W représente la correlation entre les quantiles de notre variable de vente et les quantiles théoriques d'une normale de moyenne 0 et de variance 1.\n",
    "Dans notre cas w = 0.99463 ce qui est très prêt de 1 donc les quantiles de notre variable sont très prêt de ce d'une normale.\n",
    "De plus notre p-value = 0.7128 est très élevée comparativement à 0.05\n",
    "Nous pouvons donc dire que nos données sont conformes à une distribution normale  "
   ]
  },
  {
   "cell_type": "markdown",
   "metadata": {},
   "source": [
    "# Tableau de statistique descriptive"
   ]
  },
  {
   "cell_type": "code",
   "execution_count": null,
   "metadata": {
    "vscode": {
     "languageId": "r"
    }
   },
   "outputs": [],
   "source": [
    "mesureStatistique = data.frame(mondata=c(\"Sales\"), \n",
    "                     moyenne=NA, écartType=NA, q1=NA, mediane=NA,\n",
    "                     q3=NA, IntervalConfiance=NA)\n",
    "# moyenne,\n",
    "mesureStatistique$moyenne = sapply(2, function(i) mean(Y)) \n",
    "# quartiles q1, q2 = mediane, q3 \n",
    "mesureStatistique[1, c(\"q1\", \"mediane\", \"q3\")] = quantile(Y, probs = c(0.25,0.5,0.75))\n",
    "# écart type,\n",
    "mesureStatistique$écartType = sapply(2, function(i) sd(Y)) \n",
    "# intervalle de confiance pour la moyenne\n",
    "ci <- t.test(Y, conf.level = 0.95)$conf.int\n",
    "# cat(\"95% Confidence Interval: [\", ci[1], \", \", ci[2], \"]\\n\")\n",
    "mesureStatistique$IntervalConfiance = sprintf(\"[%f, %f]\", ci[1], ci[2])\n",
    "\n",
    "# Afficher le resultat\n",
    "mesureStatistique"
   ]
  },
  {
   "cell_type": "markdown",
   "metadata": {},
   "source": [
    "# PARTIE C: Meilleur modèle"
   ]
  },
  {
   "attachments": {},
   "cell_type": "markdown",
   "metadata": {},
   "source": [
    "## Étude du modèle 1\n",
    "Y = beta0 + beta1*X1 + epsilon"
   ]
  },
  {
   "attachments": {},
   "cell_type": "markdown",
   "metadata": {},
   "source": [
    "### Graphe de regression"
   ]
  },
  {
   "cell_type": "code",
   "execution_count": null,
   "metadata": {
    "vscode": {
     "languageId": "r"
    }
   },
   "outputs": [],
   "source": [
    "n <- length(X1) # Taille de l'échantillon\n",
    "X1_mean <- mean(X1) # Moyenne de X1\n",
    "Y_mean <- mean(Y) # Moyenne de Y\n",
    "X1_diff <- X1 - X1_mean # Différences entre les valeurs de X1 et sa moyenne\n",
    "Y_diff <- Y - Y_mean # Différences entre les valeurs de Y et sa moyenne\n",
    "X1_diff_square <- X1_diff^2 # Carré des différences de X1\n",
    "X1_diff_Y_diff <- X1_diff * Y_diff # Produit des différences entre X1 et sa moyenne et entre Y et sa moyenne\n",
    "\n",
    "# Estimation des coefficients de la régression linéaire\n",
    "beta1 <- sum(X1_diff_Y_diff) / sum(X1_diff_square) # Coefficient beta1\n",
    "beta0 <- Y_mean - beta1 * X1_mean # Coefficient beta0\n",
    "\n",
    "# Préparation des données pour le graphique\n",
    "X1_range <- range(X1) # Plage de valeurs de X1\n",
    "Y_pred <- beta0 + beta1 * X1_range # Prédiction des valeurs de Y en fonction de X1\n",
    "\n",
    "# Tracer le graphique\n",
    "plot(X1, Y, pch = 16, col = \"gold\", xlab = \"Prix\", ylab = \"Ventes\", main = \"Régression linéaire vente-prix\")\n",
    "lines(X1_range, Y_pred, col = \"red\", lwd = 2) # Tracer "
   ]
  },
  {
   "attachments": {},
   "cell_type": "markdown",
   "metadata": {},
   "source": [
    "### Tableau d'analyse de la variance"
   ]
  },
  {
   "cell_type": "code",
   "execution_count": null,
   "metadata": {
    "vscode": {
     "languageId": "r"
    }
   },
   "outputs": [],
   "source": [
    "modele1 <- lm(Y ~ X1)\n",
    "summary(modele1)\n",
    "anova(modele1)"
   ]
  },
  {
   "attachments": {},
   "cell_type": "markdown",
   "metadata": {},
   "source": [
    "### Analyse des résidus"
   ]
  },
  {
   "cell_type": "code",
   "execution_count": null,
   "metadata": {
    "vscode": {
     "languageId": "r"
    }
   },
   "outputs": [],
   "source": [
    "par(mfrow = c(2,2))\n",
    "plot(modele1)"
   ]
  },
  {
   "attachments": {},
   "cell_type": "markdown",
   "metadata": {},
   "source": [
    "### Interval de confiance de beta0 et beta1"
   ]
  },
  {
   "cell_type": "code",
   "execution_count": null,
   "metadata": {
    "vscode": {
     "languageId": "r"
    }
   },
   "outputs": [],
   "source": [
    "conf_int <- confint(modele1)\n",
    "cat(\"Intervalle de confiance pour beta0 (intercept): \", conf_int[\"(Intercept)\",\"2.5 %\"], \" - \", conf_int[\"(Intercept)\",\"97.5 %\"], \"\\n\")\n",
    "cat(\"Intervalle de confiance pour beta1 (pente): \", conf_int[\"X1\",\"2.5 %\"], \" - \", conf_int[\"X1\",\"97.5 %\"], \"\\n\")"
   ]
  },
  {
   "attachments": {},
   "cell_type": "markdown",
   "metadata": {},
   "source": [
    "## Étude du modèle 2\n",
    "Y = beta0 + beta1*X2 + epsilon"
   ]
  },
  {
   "cell_type": "markdown",
   "metadata": {},
   "source": [
    "### Graphe de regression"
   ]
  },
  {
   "cell_type": "code",
   "execution_count": null,
   "metadata": {
    "vscode": {
     "languageId": "r"
    }
   },
   "outputs": [],
   "source": [
    "n <- length(X2) # Taille de l'échantillon\n",
    "X2_mean <- mean(X2) # Moyenne de X2\n",
    "Y_mean <- mean(Y) # Moyenne de Y\n",
    "X2_diff <- X2 - X2_mean # Différences entre les valeurs de X2 et sa moyenne\n",
    "Y_diff <- Y - Y_mean # Différences entre les valeurs de Y et sa moyenne\n",
    "X2_diff_square <- X2_diff^2 # Carré des différences de X2\n",
    "X2_diff_Y_diff <- X2_diff * Y_diff # Produit des différences entre X2 et sa moyenne et entre Y et sa moyenne\n",
    "\n",
    "# Estimation des coefficients de la régression linéaire\n",
    "beta1 <- sum(X2_diff_Y_diff) / sum(X2_diff_square) # Coefficient beta1\n",
    "beta0 <- Y_mean - beta1 * X2_mean # Coefficient beta0\n",
    "\n",
    "# Préparation des données pour le graphique\n",
    "X2_range <- range(X2) # Plage de valeurs de X2\n",
    "Y_pred <- beta0 + beta1 * X2_range # Prédiction des valeurs de Y en fonction de X2\n",
    "\n",
    "# Tracer le graphique\n",
    "plot(X2, Y, pch = 16, col = \"gold\", xlab = \"Publicites\", ylab = \"Ventes\", main = \"Régression linéaire vente-publicite\")\n",
    "lines(X2_range, Y_pred, col = \"red\", lwd = 2) # Tracer "
   ]
  },
  {
   "cell_type": "markdown",
   "metadata": {},
   "source": [
    "### Tableau d'analyse de la variance"
   ]
  },
  {
   "cell_type": "code",
   "execution_count": null,
   "metadata": {
    "vscode": {
     "languageId": "r"
    }
   },
   "outputs": [],
   "source": [
    "modele2 <- lm(Y ~ X2)\n",
    "summary(modele2)\n",
    "anova(modele2)"
   ]
  },
  {
   "cell_type": "markdown",
   "metadata": {},
   "source": [
    "### Analyse des résidus"
   ]
  },
  {
   "cell_type": "code",
   "execution_count": null,
   "metadata": {
    "vscode": {
     "languageId": "r"
    }
   },
   "outputs": [],
   "source": [
    "par(mfrow = c(2,2))\n",
    "plot(modele2)"
   ]
  },
  {
   "cell_type": "markdown",
   "metadata": {},
   "source": [
    "### Interval de confiance de beta0 et beta1"
   ]
  },
  {
   "cell_type": "code",
   "execution_count": null,
   "metadata": {
    "vscode": {
     "languageId": "r"
    }
   },
   "outputs": [],
   "source": [
    "conf_int <- confint(modele2)\n",
    "cat(\"Intervalle de confiance pour beta0 (intercept): \", conf_int[\"(Intercept)\",\"2.5 %\"], \" - \", conf_int[\"(Intercept)\",\"97.5 %\"], \"\\n\")\n",
    "cat(\"Intervalle de confiance pour beta1 (pente): \", conf_int[\"X2\",\"2.5 %\"], \" - \", conf_int[\"X2\",\"97.5 %\"], \"\\n\")"
   ]
  },
  {
   "attachments": {},
   "cell_type": "markdown",
   "metadata": {},
   "source": [
    "## Étude du modèle 3\n",
    "Y = beta0*(X1^beta1)*exp(epsilon)"
   ]
  },
  {
   "cell_type": "markdown",
   "metadata": {},
   "source": [
    "### Graphe de regression"
   ]
  },
  {
   "cell_type": "code",
   "execution_count": null,
   "metadata": {
    "vscode": {
     "languageId": "r"
    }
   },
   "outputs": [],
   "source": [
    "model_function <- function(X1, beta0, beta1) {\n",
    "  return(beta0 * (X1^beta1))\n",
    "}\n",
    "\n",
    "# Estimer les paramètres du modèle\n",
    "model1 <- nls(Y ~ model_function(X1, beta0, beta1),\n",
    "           start = list(beta0 = 1, beta1 = 1))\n",
    "\n",
    "# Obtenir les valeurs prédites du modèle\n",
    "predicted <- predict(model1)\n",
    "\n",
    "# Tracer le graphe\n",
    "plot(X1, Y, main = \"Régression non linéaire\",\n",
    "     xlab = \"X1\", ylab = \"Y\", pch = 16, col = \"gold\")\n",
    "lines(X1, predicted, col = \"red\", lwd = 2)\n",
    "legend(\"topleft\", legend = \"Y = beta0*(X1^beta1)\",\n",
    "       col = \"red\", lwd = 2, bty = \"n\")"
   ]
  },
  {
   "cell_type": "markdown",
   "metadata": {},
   "source": [
    "### Tableau d'analyse de la variance"
   ]
  },
  {
   "cell_type": "code",
   "execution_count": null,
   "metadata": {
    "vscode": {
     "languageId": "r"
    }
   },
   "outputs": [],
   "source": [
    "summary(modele1)\n",
    "anova(modele1)"
   ]
  },
  {
   "attachments": {},
   "cell_type": "markdown",
   "metadata": {},
   "source": [
    "### Analyse des résidus"
   ]
  },
  {
   "cell_type": "code",
   "execution_count": null,
   "metadata": {
    "vscode": {
     "languageId": "r"
    }
   },
   "outputs": [],
   "source": [
    "par(mfrow = c(2,2))\n",
    "plot(modele1)"
   ]
  },
  {
   "cell_type": "markdown",
   "metadata": {},
   "source": [
    "### Interval de confiance de beta0 et beta1"
   ]
  },
  {
   "cell_type": "code",
   "execution_count": null,
   "metadata": {
    "vscode": {
     "languageId": "r"
    }
   },
   "outputs": [],
   "source": [
    "# Obtenir les intervalles de confiance des coefficients\n",
    "conf_int <- confint(model1) # Calculer les intervalles de confiance\n",
    "\n",
    "# Afficher les résultats\n",
    "cat(\"Intervalle de confiance pour beta0 : \", conf_int[\"beta0\",\"2.5 %\"], \" - \", conf_int[\"beta0\",\"97.5 %\"], \"\\n\")\n",
    "cat(\"Intervalle de confiance pour beta1 : \", conf_int[\"beta1\",\"2.5 %\"], \" - \", conf_int[\"beta1\",\"97.5 %\"], \"\\n\")"
   ]
  },
  {
   "cell_type": "markdown",
   "metadata": {},
   "source": [
    "# PARTIE C: Meilleur modèle"
   ]
  },
  {
   "cell_type": "markdown",
   "metadata": {},
   "source": [
    "# PARTIE C: Meilleur modèle"
   ]
  },
  {
   "cell_type": "markdown",
   "metadata": {},
   "source": [
    "# PARTIE C: Meilleur modèle"
   ]
  },
  {
   "cell_type": "markdown",
   "metadata": {},
   "source": [
    "# PARTIE C: Meilleur modèle"
   ]
  }
 ],
 "metadata": {
  "kernelspec": {
   "display_name": "R",
   "language": "R",
   "name": "ir"
  },
  "language_info": {
   "codemirror_mode": "r",
   "file_extension": ".r",
   "mimetype": "text/x-r-source",
   "name": "R",
   "pygments_lexer": "r",
   "version": "4.2.2"
  }
 },
 "nbformat": 4,
 "nbformat_minor": 2
}
