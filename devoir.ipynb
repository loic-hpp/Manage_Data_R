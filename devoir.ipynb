{
 "cells": [
  {
   "cell_type": "markdown",
   "metadata": {},
   "source": [
    "# Réalisation d'une analyse statistique avec le langage R\n",
    "Dans un premier temps, nous allons récupérer les données dans le CSV"
   ]
  },
  {
   "cell_type": "code",
   "execution_count": null,
   "metadata": {
    "vscode": {
     "languageId": "r"
    }
   },
   "outputs": [],
   "source": [
    "# Charger les données\n",
    "source(\"charger.R\")\n",
    "mondata <- charger(2105482)\n",
    "Y <- mondata$Sales\n",
    "X1 <- mondata$Price\n",
    "X2 <- mondata$Advertising\n",
    "X3 <- mondata$Region"
   ]
  },
  {
   "cell_type": "code",
   "execution_count": null,
   "metadata": {
    "vscode": {
     "languageId": "r"
    }
   },
   "outputs": [],
   "source": [
    "# Afficher les données\n",
    "mondata"
   ]
  },
  {
   "cell_type": "markdown",
   "metadata": {},
   "source": [
    "# Histogramme des ventes"
   ]
  },
  {
   "cell_type": "code",
   "execution_count": null,
   "metadata": {
    "vscode": {
     "languageId": "r"
    }
   },
   "outputs": [],
   "source": [
    "hist(Y, col=\"gold\",border=\"red\", main=paste(\"Histogramme des ventes\"),\n",
    "     xlab=\"Ventes\",ylab=\"Fréquences\")"
   ]
  },
  {
   "cell_type": "markdown",
   "metadata": {},
   "source": [
    "# Diagramme de Tukey pour les ventes"
   ]
  },
  {
   "cell_type": "code",
   "execution_count": null,
   "metadata": {
    "vscode": {
     "languageId": "r"
    }
   },
   "outputs": [],
   "source": [
    "boxplot(Y,\n",
    "horizontal=TRUE,\n",
    "col=\"gold\",border=\"red\",\n",
    "xlab=\"Nombre de vente\")"
   ]
  },
  {
   "cell_type": "markdown",
   "metadata": {},
   "source": [
    "# Droite de Henry"
   ]
  },
  {
   "cell_type": "code",
   "execution_count": null,
   "metadata": {
    "vscode": {
     "languageId": "r"
    }
   },
   "outputs": [],
   "source": [
    "qqnorm(Y, col =\"gold\", main=paste(\"Droite de Henry\"))\n",
    "qqline(Y, col =\"red\")\n"
   ]
  },
  {
   "cell_type": "markdown",
   "metadata": {},
   "source": [
    "# Test de normalité (Shapiro-Wilk)"
   ]
  },
  {
   "cell_type": "code",
   "execution_count": null,
   "metadata": {
    "vscode": {
     "languageId": "r"
    }
   },
   "outputs": [],
   "source": [
    "shapiro.test(Y)"
   ]
  },
  {
   "cell_type": "markdown",
   "metadata": {},
   "source": [
    "# Interprétation du test de normalité (Shapiro-Wilk)\n",
    "La statistique W représente la correlation entre les quantiles de notre variable de vente et les quantiles théoriques d'une normale de moyenne 0 et de variance 1.\n",
    "Dans notre cas w = 0.99463 ce qui est très prêt de 1 donc les quantiles de notre variable sont très prêt de ce d'une normale.\n",
    "De plus notre p-value = 0.7128 est très élevée comparativement à 0.05\n",
    "Nous pouvons donc dire que nos données sont conformes à une distribution normale  "
   ]
  },
  {
   "cell_type": "markdown",
   "metadata": {},
   "source": [
    "# Tableau de statistique descriptive"
   ]
  },
  {
   "cell_type": "code",
   "execution_count": null,
   "metadata": {
    "vscode": {
     "languageId": "r"
    }
   },
   "outputs": [],
   "source": [
    "mesureStatistique = data.frame(mondata=c(\"Sales\"), \n",
    "                     moyenne=NA, écartType=NA, q1=NA, mediane=NA,\n",
    "                     q3=NA, IntervalConfiance=NA)\n",
    "# moyenne,\n",
    "mesureStatistique$moyenne = sapply(2, function(i) mean(Y)) \n",
    "# quartiles q1, q2 = mediane, q3 \n",
    "mesureStatistique[1, c(\"q1\", \"mediane\", \"q3\")] = quantile(Y, probs = c(0.25,0.5,0.75))\n",
    "# écart type,\n",
    "mesureStatistique$écartType = sapply(2, function(i) sd(Y)) \n",
    "# intervalle de confiance pour la moyenne\n",
    "ci <- t.test(Y, conf.level = 0.95)$conf.int\n",
    "# cat(\"95% Confidence Interval: [\", ci[1], \", \", ci[2], \"]\\n\")\n",
    "mesureStatistique$IntervalConfiance = sprintf(\"[%f, %f]\", ci[1], ci[2])\n",
    "\n",
    "# Afficher le resultat\n",
    "mesureStatistique"
   ]
  },
  {
   "cell_type": "markdown",
   "metadata": {},
   "source": [
    "# PARTIE C: Meilleur modèle"
   ]
  },
  {
   "attachments": {},
   "cell_type": "markdown",
   "metadata": {},
   "source": [
    "## Étude du modèle 1\n",
    "Y = beta0 + beta1*X1 + epsilon"
   ]
  },
  {
   "attachments": {},
   "cell_type": "markdown",
   "metadata": {},
   "source": [
    "### Graphe de regression"
   ]
  },
  {
   "cell_type": "code",
   "execution_count": null,
   "metadata": {
    "vscode": {
     "languageId": "r"
    }
   },
   "outputs": [],
   "source": [
    "modele1 <- lm(Y ~ X1)\n",
    "\n",
    "# Create a scatter plot of log(Y) against X1\n",
    "plot(X1, Y, main = \"Regression linéaire: Ventes ~ Prix\", col = \"gold\",\n",
    "     xlab = \"Prix\", ylab = \"Ventes\", pch = 16)\n",
    "\n",
    "# Add the regression line\n",
    "abline(modele1, col = \"red\")"
   ]
  },
  {
   "attachments": {},
   "cell_type": "markdown",
   "metadata": {},
   "source": [
    "### Tableau d'analyse de la variance"
   ]
  },
  {
   "cell_type": "code",
   "execution_count": null,
   "metadata": {
    "vscode": {
     "languageId": "r"
    }
   },
   "outputs": [],
   "source": [
    "summary(modele1)\n",
    "anova(modele1)"
   ]
  },
  {
   "attachments": {},
   "cell_type": "markdown",
   "metadata": {},
   "source": [
    "#### Test de la signification du modèle\n",
    "Les hypothèses sont les suivantes :\n",
    "-\tH0 : β1 = 0 ce qui implique qu’il n’y a pas de relation linéaire entre Y et X1\n",
    "-\tH1 : β1 ≠ 0\n",
    "La p-value de β1 est 3.3e-08 qui est inférieure au seuil α = 0 ce qui signifie qu’on rejette l’hypothèse H0\n",
    "Analyse des résidus\n",
    "Observons les différents les différents tests effectués sur les résidus avec la figure 1.1.2 ci-dessous.\n"
   ]
  },
  {
   "attachments": {},
   "cell_type": "markdown",
   "metadata": {},
   "source": [
    "### Analyse des résidus"
   ]
  },
  {
   "cell_type": "code",
   "execution_count": null,
   "metadata": {
    "vscode": {
     "languageId": "r"
    }
   },
   "outputs": [],
   "source": [
    "par(mfrow = c(2,2))\n",
    "plot(modele1)"
   ]
  },
  {
   "attachments": {},
   "cell_type": "markdown",
   "metadata": {},
   "source": [
    "#### Interprétations:\n",
    "-\tPour le graphe des residual vs Fitted et le graphe Residual vs Leverage on remarque on remarque une répartition des données assez égale de part et d’autre de l’axe 0. On conclut donc qu’il y a homoscédasticité\n",
    "-\tPour le graphique Normal Q-Q on constate que les résidus sont majoritairement confondus aux quantiles théoriques de la normal on conclut donc que la distribution de l’erreur suit effectivement une normal\n",
    "-\tEn observant le graphe Scale-Location, on remarque que les résidus sont aléatoirement dispersés et ne présentent aucune tendance entre eux. On peut donc conclure qu’il n’y a pas d’autocorrélation entre les résidus \n",
    "Ces interprétations montrent que les hypothèses de bases sont respectées par notre modèle, cependant nous avons obtenu comme valeur de R2 :   R2 = 0.1466 qui est très éloigné de 1 nous concluons donc que ce modèle ne convient pas pour faire une prédiction.\n"
   ]
  },
  {
   "attachments": {},
   "cell_type": "markdown",
   "metadata": {},
   "source": [
    "### Interval de confiance de beta0 et beta1"
   ]
  },
  {
   "cell_type": "code",
   "execution_count": null,
   "metadata": {
    "vscode": {
     "languageId": "r"
    }
   },
   "outputs": [],
   "source": [
    "conf_int <- confint(modele1)\n",
    "conf_int"
   ]
  },
  {
   "attachments": {},
   "cell_type": "markdown",
   "metadata": {},
   "source": [
    "## Étude du modèle 4\n",
    "Y = beta0 + beta1*X2 + epsilon"
   ]
  },
  {
   "cell_type": "markdown",
   "metadata": {},
   "source": [
    "### Graphe de regression"
   ]
  },
  {
   "cell_type": "code",
   "execution_count": null,
   "metadata": {
    "vscode": {
     "languageId": "r"
    }
   },
   "outputs": [],
   "source": [
    "modele4 <- lm(Y ~ X2)\n",
    "\n",
    "# Create a scatter plot of log(Y) against X1\n",
    "plot(X2, Y, main = \"Regression linéaire: Ventes ~ Prix\", col = \"gold\",\n",
    "     xlab = \"Prix\", ylab = \"Ventes\", pch = 16)\n",
    "\n",
    "# Add the regression line\n",
    "abline(modele4, col = \"red\")"
   ]
  },
  {
   "cell_type": "markdown",
   "metadata": {},
   "source": [
    "### Tableau d'analyse de la variance"
   ]
  },
  {
   "cell_type": "code",
   "execution_count": null,
   "metadata": {
    "vscode": {
     "languageId": "r"
    }
   },
   "outputs": [],
   "source": [
    "summary(modele4)\n",
    "anova(modele4)"
   ]
  },
  {
   "cell_type": "markdown",
   "metadata": {},
   "source": [
    "### Analyse des résidus"
   ]
  },
  {
   "cell_type": "code",
   "execution_count": null,
   "metadata": {
    "vscode": {
     "languageId": "r"
    }
   },
   "outputs": [],
   "source": [
    "par(mfrow = c(2,2))\n",
    "plot(modele4)"
   ]
  },
  {
   "cell_type": "markdown",
   "metadata": {},
   "source": [
    "### Interval de confiance de beta0 et beta1"
   ]
  },
  {
   "cell_type": "code",
   "execution_count": null,
   "metadata": {
    "vscode": {
     "languageId": "r"
    }
   },
   "outputs": [],
   "source": [
    "conf_int <- confint(modele4)\n",
    "conf_int"
   ]
  },
  {
   "attachments": {},
   "cell_type": "markdown",
   "metadata": {},
   "source": [
    "## Étude du modèle 2\n",
    "Y = beta0*(X1^beta1)*exp(epsilon)"
   ]
  },
  {
   "cell_type": "markdown",
   "metadata": {},
   "source": [
    "### Graphe de regression"
   ]
  },
  {
   "cell_type": "code",
   "execution_count": null,
   "metadata": {
    "vscode": {
     "languageId": "r"
    }
   },
   "outputs": [],
   "source": [
    "modele2 <- lm(log(Y) ~ log(X1))\n",
    "\n",
    "# Create a scatter plot of log(Y) against X1\n",
    "plot(log(X1), log(Y), main = \"Regression linéaire: log(Ventes) ~ log(Prix)\", col = \"gold\",\n",
    "     xlab = \"log(Prix)\", ylab = \"log(Ventes)\", pch = 16)\n",
    "\n",
    "# Add the regression line\n",
    "abline(modele2, col = \"red\")"
   ]
  },
  {
   "cell_type": "markdown",
   "metadata": {},
   "source": [
    "### Tableau d'analyse de la variance"
   ]
  },
  {
   "cell_type": "code",
   "execution_count": null,
   "metadata": {
    "vscode": {
     "languageId": "r"
    }
   },
   "outputs": [],
   "source": [
    "summary(modele2)\n",
    "anova(modele2)"
   ]
  },
  {
   "attachments": {},
   "cell_type": "markdown",
   "metadata": {},
   "source": [
    "### Analyse des résidus"
   ]
  },
  {
   "cell_type": "code",
   "execution_count": null,
   "metadata": {
    "vscode": {
     "languageId": "r"
    }
   },
   "outputs": [],
   "source": [
    "par(mfrow = c(2,2))\n",
    "plot(modele2)"
   ]
  },
  {
   "cell_type": "markdown",
   "metadata": {},
   "source": [
    "### Interval de confiance de beta0 et beta1"
   ]
  },
  {
   "cell_type": "code",
   "execution_count": null,
   "metadata": {
    "vscode": {
     "languageId": "r"
    }
   },
   "outputs": [],
   "source": [
    "# Obtenir les intervalles de confiance des coefficients\n",
    "conf_int <- confint(modele2) # Calculer les intervalles de confiance\n",
    "# Afficher les résultats\n",
    "conf_int\n"
   ]
  },
  {
   "attachments": {},
   "cell_type": "markdown",
   "metadata": {},
   "source": [
    "## Étude du modèle 5\n",
    "Y = beta0*(X2^beta1)*exp(epsilon)"
   ]
  },
  {
   "cell_type": "markdown",
   "metadata": {},
   "source": [
    "### Graphe de regression"
   ]
  },
  {
   "cell_type": "code",
   "execution_count": null,
   "metadata": {
    "vscode": {
     "languageId": "r"
    }
   },
   "outputs": [],
   "source": [
    "modele5 <- lm(log(Y) ~ log(X2+8))\n",
    "\n",
    "# Create a scatter plot of log(Y) against X2\n",
    "plot(log(X2+1), log(Y), main = \"Regression linéaire: log(Ventes) ~ log(publicité)\", col = \"gold\",\n",
    "     xlab = \"log(Publicites)\", ylab = \"log(Vente)\", pch = 16)\n",
    "\n",
    "# Add the regression line\n",
    "abline(modele5, col = \"red\")"
   ]
  },
  {
   "cell_type": "markdown",
   "metadata": {},
   "source": [
    "### Tableau d'analyse de la variance"
   ]
  },
  {
   "cell_type": "code",
   "execution_count": null,
   "metadata": {
    "vscode": {
     "languageId": "r"
    }
   },
   "outputs": [],
   "source": [
    "summary(modele5)\n",
    "anova(modele5)"
   ]
  },
  {
   "cell_type": "markdown",
   "metadata": {},
   "source": [
    "### Analyse des résidus"
   ]
  },
  {
   "cell_type": "code",
   "execution_count": null,
   "metadata": {
    "vscode": {
     "languageId": "r"
    }
   },
   "outputs": [],
   "source": [
    "par(mfrow = c(2,2))\n",
    "plot(modele5)"
   ]
  },
  {
   "cell_type": "markdown",
   "metadata": {},
   "source": [
    "### Interval de confiance de beta0 et beta1"
   ]
  },
  {
   "cell_type": "code",
   "execution_count": null,
   "metadata": {
    "vscode": {
     "languageId": "r"
    }
   },
   "outputs": [],
   "source": [
    "# Obtenir les intervalles de confiance des coefficients\n",
    "conf_int <- confint(modele5) # Calculer les intervalles de confiance\n",
    "# Afficher les résultats\n",
    "conf_int\n"
   ]
  },
  {
   "attachments": {},
   "cell_type": "markdown",
   "metadata": {},
   "source": [
    "## Étude du modèle 3\n",
    "Y = beta0 * exp[(beta1 * X1) + epsilon]"
   ]
  },
  {
   "cell_type": "markdown",
   "metadata": {},
   "source": [
    "### Graphe de regression"
   ]
  },
  {
   "cell_type": "code",
   "execution_count": null,
   "metadata": {
    "vscode": {
     "languageId": "r"
    }
   },
   "outputs": [],
   "source": [
    "modele3 <- lm(log(Y) ~ (X1))\n",
    "\n",
    "# Create a scatter plot of log(Y) against X1\n",
    "plot(X1, log(Y), main = \"Regression linéaire: log(Ventes) ~ prix\", col = \"gold\",\n",
    "     xlab = \"Prix\", ylab = \"log(Vente)\", pch = 16)\n",
    "\n",
    "# Add the regression line\n",
    "abline(modele3, col = \"red\")"
   ]
  },
  {
   "cell_type": "markdown",
   "metadata": {},
   "source": [
    "### Tableau d'analyse de la variance"
   ]
  },
  {
   "cell_type": "code",
   "execution_count": null,
   "metadata": {
    "vscode": {
     "languageId": "r"
    }
   },
   "outputs": [],
   "source": [
    "summary(modele3)\n",
    "anova(modele3)"
   ]
  },
  {
   "cell_type": "markdown",
   "metadata": {},
   "source": [
    "### Analyse des résidus"
   ]
  },
  {
   "cell_type": "code",
   "execution_count": null,
   "metadata": {
    "vscode": {
     "languageId": "r"
    }
   },
   "outputs": [],
   "source": [
    "par(mfrow = c(2,2))\n",
    "plot(modele3)"
   ]
  },
  {
   "cell_type": "markdown",
   "metadata": {},
   "source": [
    "### Interval de confiance de beta0 et beta1"
   ]
  },
  {
   "cell_type": "code",
   "execution_count": null,
   "metadata": {
    "vscode": {
     "languageId": "r"
    }
   },
   "outputs": [],
   "source": [
    "# Obtenir les intervalles de confiance des coefficients\n",
    "conf_int <- confint(modele3) # Calculer les intervalles de confiance\n",
    "# Afficher les résultats\n",
    "conf_int\n"
   ]
  },
  {
   "attachments": {},
   "cell_type": "markdown",
   "metadata": {},
   "source": [
    "## Étude du modèle 6\n",
    "Y = beta0 * exp[(beta1 * X2) + epsilon]"
   ]
  },
  {
   "cell_type": "markdown",
   "metadata": {},
   "source": [
    "### Graphe de regression"
   ]
  },
  {
   "cell_type": "code",
   "execution_count": null,
   "metadata": {
    "vscode": {
     "languageId": "r"
    }
   },
   "outputs": [],
   "source": [
    "modele6 <- lm(log(Y) ~ X2)\n",
    "\n",
    "# Create a scatter plot of log(Y) against X1\n",
    "plot(X2, log(Y), main = \"Regression linéaire: log(Ventes) ~ publicité\", col = \"gold\",\n",
    "     xlab = \"Publicites\", ylab = \"log(Vente)\", pch = 16)\n",
    "\n",
    "# Add the regression line\n",
    "abline(modele6, col = \"red\")"
   ]
  },
  {
   "cell_type": "markdown",
   "metadata": {},
   "source": [
    "### Tableau d'analyse de la variance"
   ]
  },
  {
   "cell_type": "code",
   "execution_count": null,
   "metadata": {
    "vscode": {
     "languageId": "r"
    }
   },
   "outputs": [],
   "source": [
    "summary(modele6)\n",
    "anova(modele6)"
   ]
  },
  {
   "cell_type": "markdown",
   "metadata": {},
   "source": [
    "### Analyse des résidus"
   ]
  },
  {
   "cell_type": "code",
   "execution_count": null,
   "metadata": {
    "vscode": {
     "languageId": "r"
    }
   },
   "outputs": [],
   "source": [
    "par(mfrow = c(2,2))\n",
    "plot(modele6)"
   ]
  },
  {
   "cell_type": "markdown",
   "metadata": {},
   "source": [
    "### Interval de confiance de beta0 et beta1"
   ]
  },
  {
   "cell_type": "code",
   "execution_count": null,
   "metadata": {
    "vscode": {
     "languageId": "r"
    }
   },
   "outputs": [],
   "source": [
    "# Obtenir les intervalles de confiance des coefficients\n",
    "conf_int <- confint(modele6) # Calculer les intervalles de confiance\n",
    "# Afficher les résultats\n",
    "conf_int\n"
   ]
  },
  {
   "attachments": {},
   "cell_type": "markdown",
   "metadata": {},
   "source": [
    "## Choix du meilleur modèle:"
   ]
  },
  {
   "attachments": {},
   "cell_type": "markdown",
   "metadata": {},
   "source": [
    "## Prévision des ventes en fonction du meilleur modele"
   ]
  },
  {
   "cell_type": "code",
   "execution_count": null,
   "metadata": {
    "vscode": {
     "languageId": "r"
    }
   },
   "outputs": [],
   "source": [
    "predict"
   ]
  }
 ],
 "metadata": {
  "kernelspec": {
   "display_name": "R",
   "language": "R",
   "name": "ir"
  },
  "language_info": {
   "codemirror_mode": "r",
   "file_extension": ".r",
   "mimetype": "text/x-r-source",
   "name": "R",
   "pygments_lexer": "r",
   "version": "4.2.2"
  }
 },
 "nbformat": 4,
 "nbformat_minor": 2
}
